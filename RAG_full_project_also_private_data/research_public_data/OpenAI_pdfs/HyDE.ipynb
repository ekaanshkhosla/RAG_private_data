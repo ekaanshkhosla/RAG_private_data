{
 "cells": [
  {
   "cell_type": "code",
   "execution_count": 1,
   "metadata": {},
   "outputs": [],
   "source": [
    "import os\n",
    "import sys\n",
    "os.environ[\"LANGCHAIN_TRACING_V2\"] = \"true\"\n",
    "os.environ[\"LANGCHAIN_ENDPOINT\"] = \"https://api.smith.langchain.com\""
   ]
  },
  {
   "cell_type": "code",
   "execution_count": 2,
   "metadata": {},
   "outputs": [],
   "source": [
    "keys_path = os.path.abspath('../../keys')\n",
    "sys.path.append(keys_path)\n",
    "from keys import LANGCHAIN_API_KEY, OPENAI_API_KEY\n",
    "os.environ[\"LANGCHAIN_API_KEY\"] = LANGCHAIN_API_KEY\n",
    "os.environ['OPENAI_API_KEY'] = OPENAI_API_KEY\n",
    "\n",
    "pdfs_path = os.path.abspath('../../public_data_pdfs')"
   ]
  },
  {
   "cell_type": "code",
   "execution_count": 3,
   "metadata": {},
   "outputs": [],
   "source": [
    "import os\n",
    "from langchain_community.document_loaders import PyPDFLoader\n",
    "from langchain.text_splitter import TokenTextSplitter\n",
    "from langchain_community.vectorstores import Chroma\n",
    "from langchain_openai import OpenAIEmbeddings\n",
    "from langchain.text_splitter import RecursiveCharacterTextSplitter\n",
    "\n",
    "# Get all PDF files in the directory\n",
    "pdf_files = [file for file in os.listdir(pdfs_path) if file.endswith('.pdf')]\n",
    "\n",
    "# Create a list of full paths by joining the base folder with each file name\n",
    "pdf_paths = [os.path.join(pdfs_path, pdf_file) for pdf_file in pdf_files]\n",
    "\n",
    "# Initialize an empty list to hold all document splits\n",
    "all_doc_splits = []\n",
    "\n",
    "# Define the text splitter with a chunk size of 1000 tokens and 200 overlap\n",
    "text_splitter = RecursiveCharacterTextSplitter.from_tiktoken_encoder(\n",
    "    chunk_size=1000, \n",
    "    chunk_overlap=200)\n",
    "\n",
    "# Iterate over each PDF file path\n",
    "for pdf_path in pdf_paths:\n",
    "    # Load the PDF\n",
    "    pdf_loader = PyPDFLoader(pdf_path)\n",
    "    documents = pdf_loader.load()\n",
    "    \n",
    "    # Split the documents into chunks\n",
    "    doc_splits = text_splitter.split_documents(documents)\n",
    "    \n",
    "    # Add the splits to the overall list\n",
    "    all_doc_splits.extend(doc_splits)"
   ]
  },
  {
   "cell_type": "code",
   "execution_count": 4,
   "metadata": {},
   "outputs": [],
   "source": [
    "# Index\n",
    "from langchain_openai import OpenAIEmbeddings\n",
    "from langchain_community.vectorstores import SKLearnVectorStore\n",
    "\n",
    "vectorstore = SKLearnVectorStore.from_documents(documents=all_doc_splits, \n",
    "                                    embedding=OpenAIEmbeddings())\n",
    "\n",
    "retriever = vectorstore.as_retriever()"
   ]
  },
  {
   "cell_type": "code",
   "execution_count": 5,
   "metadata": {},
   "outputs": [],
   "source": [
    "from langchain.prompts import ChatPromptTemplate\n",
    "\n",
    "# HyDE document genration\n",
    "template = \"\"\"Please give some information to answer the question\n",
    "Question: {question}\n",
    "Passage:\"\"\"\n",
    "prompt_hyde = ChatPromptTemplate.from_template(template)\n",
    "\n",
    "from langchain_core.output_parsers import StrOutputParser\n",
    "from langchain_openai import ChatOpenAI\n",
    "\n",
    "generate_docs_for_retrieval = (\n",
    "    prompt_hyde | ChatOpenAI(temperature=0) | StrOutputParser() \n",
    ")"
   ]
  },
  {
   "cell_type": "code",
   "execution_count": 6,
   "metadata": {},
   "outputs": [],
   "source": [
    "questions = [\n",
    "    'Will the language of instruction of my Bachelor’s degree suffice to demonstrate my proficiency in English for admission in Msc Data Science at FAU Erlangen?',\n",
    "    'Is an APS certificate mandatory for Indian students during the application process?',\n",
    "    'How long does it typically take to receive a decision regarding my application to the MSc Data Science program?',\n",
    "    'Am I eligible to apply for the study course program with a degree from a technical university or a university of applied sciences?',\n",
    "    'Can I apply for the study course program with a degree obtained through a dual study program?',\n",
    "    'What could be the reasons for receiving a rejection for my application?',\n",
    "    'Is it possible to defer my admission to a future semester?',\n",
    "    'Where can I find accommodation while studying at FAU?',\n",
    "    'Can I switch my major subject after being admitted?',\n",
    "    'Is it allowed to combine modules from different application subjects?',\n",
    "    'How can I transfer ECTS credits from one module group to another?',\n",
    "    'Can modules from my major subject count towards my minor subject requirements?',\n",
    "    'Can my werkstudent experience be used to earn ECTS as a technical qualification?',\n",
    "    'Can I participate in an examination without prior registration?',\n",
    "    'How do I register for a module’s examination in Campo within the correct specialisation area?',\n",
    "    'If I fail an examination on the first attempt, is it mandatory to attend the next attempt?',\n",
    "    'Is it possible to withdraw from an examination after registering?',\n",
    "    'What should I do if I cannot attend an examination due to illness?',\n",
    "    'What are the consequences of failing an examination three times?',\n",
    "    'Can I retake a completed module to improve my grades?',\n",
    "    'Is it possible to improve my grades by completing additional modules?',\n",
    "    'How many ECTS credits are required before I can start writing my Master’s thesis?',\n",
    "    'How can I find a topic for my Master’s thesis?',\n",
    "    'Who is eligible to supervise my Master’s thesis?',\n",
    "    'Can my Master’s thesis supervisor be from a different department?',\n",
    "    'Is it possible to complete my Master’s thesis while working in a company?',\n",
    "    'Is it necessary to have a university supervisor for a company-based thesis?',\n",
    "    'What is the process for registering my Master’s thesis?',\n",
    "    'What steps should I take after completing my Master’s thesis?'\n",
    "]"
   ]
  },
  {
   "cell_type": "code",
   "execution_count": 7,
   "metadata": {},
   "outputs": [],
   "source": [
    "# LLM\n",
    "llm = ChatOpenAI(temperature=0)\n",
    "answers = []\n",
    "for question in questions:\n",
    "    generate_docs_for_retrieval.invoke({\"question\":question})\n",
    "    retrieval_chain = generate_docs_for_retrieval | retriever \n",
    "    retireved_docs = retrieval_chain.invoke({\"question\":question})\n",
    "\n",
    "    # RAG\n",
    "    template = \"\"\"Answer the following question based on this context:\n",
    "\n",
    "    {context}\n",
    "\n",
    "    Question: {question}\n",
    "    \"\"\"\n",
    "\n",
    "    prompt = ChatPromptTemplate.from_template(template)\n",
    "\n",
    "    final_rag_chain = (\n",
    "        prompt\n",
    "        | llm\n",
    "        | StrOutputParser()\n",
    "    )\n",
    "\n",
    "    answer = final_rag_chain.invoke({\"context\":retireved_docs,\"question\":question})\n",
    "    answers.append(answer)"
   ]
  },
  {
   "cell_type": "code",
   "execution_count": 8,
   "metadata": {},
   "outputs": [
    {
     "data": {
      "text/plain": [
       "['Yes, if your Bachelor’s degree was taught in English, you can apply with a certificate from your university stating that the language of instruction for your degree was in English.',\n",
       " 'Yes, an APS certificate is mandatory for Indian students during the application process at FAU as well as for applying for the study visa.',\n",
       " \"It typically takes about 4 weeks after the application deadline to receive a decision regarding your application to the MSc Data Science program. If you have not received any answer after 4 weeks, it is recommended to be patient. If there is still no response after 8 weeks, it is advised to politely ask the Master's Office about the current status of your application.\",\n",
       " 'Based on the provided context, yes, you are eligible to apply for the study course program with a degree from a technical university or a university of applied sciences. Any degree from a technical university or university of applied sciences will be treated equally with a degree from a university.',\n",
       " 'Based on the provided context, it is possible to apply for a study course program with a degree obtained through a dual study program. The document mentions that skills acquired outside the university sector or within the context of degree programs for professional development may be accredited if they are equivalent. Additionally, recognition and accreditation of skills acquired through various programs are outlined in the document, indicating that there are provisions for considering degrees obtained through different study programs. It is advisable to refer to the specific degree program and examination regulations for further details on the recognition of dual study program degrees.',\n",
       " 'The reasons for receiving a rejection for an application could include not having the required qualifications for the specific study course program, such as not having a completed B.Sc. degree in Mathematics, Industrial Mathematics, Mathematical Economy, Computer Science, Data Science, or Physics from the relevant institution or an equivalent domestic or international degree that aligns with the competence profile taught in the respective degree program.',\n",
       " 'Answer: Yes, it is possible to defer your admission to an upcoming semester. Just re-apply for the next semester and upload the current admission letter you received. You will be granted admission provided that there are no issues.',\n",
       " 'Answer: You can find accommodation while studying at FAU by visiting the following website with helpful links: https://www.fau.eu/education/student-life/accommodation-2/. Additionally, you can consider sharing a flat with other students or joining dedicated groups for accommodations in Erlangen on social networks like Facebook. If you have trouble finding suitable accommodation, you can also send an email to accommodation@fau.de.',\n",
       " 'Based on the provided context, yes, it is possible to change your major subject at any time without any formal process. However, it is recommended to discuss changes to your study plan agreement with your mentor.',\n",
       " 'Yes, it is allowed to combine modules from different application subjects.',\n",
       " 'Answer: To transfer ECTS credits from one module group to another, you should send a polite email to the examination office and ask for the transfer of credits. It is recommended to do this near the end of your studies to collect all necessary changes and minimize the work effort for the examination office.',\n",
       " 'No, modules for the minor subject must be chosen from specializations other than the major subject.',\n",
       " 'Based on the provided context, yes, your werkstudent experience can be used to earn ECTS as a technical qualification if you work longer than 4 weeks in a company and if your tasks are related to Data Science. However, the examination committee has to agree to your work description in order for it to be usable as a module. Typically, you will have to submit a short report (~10 pages) about your working tasks.',\n",
       " 'No, you can only participate in an examination if you have previously registered for it on the Campo portal within the exam registration period.',\n",
       " \"To register for a module's examination in Campo within the correct specialization area, follow these steps:\\n\\n1. Log in to Campo and click on Home → My studies → Study planner with module plan.\\n2. Use the view options at the top to show all examinations, hide all lectures, and expand all modules.\\n3. Use your browser's search function to search for your module and make sure you find the module name in the desired module group.\\n4. Click on the title of the module in the desired module group, and the Register button should become available for you to register.\\n5. If you encounter any issues or the module is shown in gray, indicating a system problem, send an email to studiengangskoordination-datascience@math.fau.de for assistance.\",\n",
       " 'Yes, if you fail an examination on the first attempt, it is mandatory to attend the next attempt. You will automatically be registered for the next attempt by the examination office and can only step back from it with a medical certificate verifying that you are unable to attend the examination. Not attending the examination will be counted as a failed attempt.',\n",
       " 'Yes, it is possible to withdraw from an examination after registering. If a student has not yet attended the examination before, they can withdraw without stating reasons up until three working days before the examination date. However, if a student has attempted the examination before, they can only withdraw with a medical certificate verifying their inability to attend the examination.',\n",
       " 'If you cannot attend an examination due to illness, you should submit a notification of illness to the examination office by filling out the specified form within three days. Additionally, you should submit a medical certificate about your illness in original to the examination office. Failure to submit these two mandatory documents in the specified time and not attending the examination will result in it being counted as a failed attempt.',\n",
       " 'After failing an examination three times, the module will be counted as not being passed. This means that the state cannot be changed anymore, and the module cannot be passed in the future. If the module is a core module of the study course, the student cannot continue their studies in that specific study course program at FAU.',\n",
       " 'No, you cannot retake a completed module to improve your grades. The only way to improve your certificate grades is by completing additional modules with a better grade within the same module group.',\n",
       " 'Yes, it is possible to improve your grades by completing additional modules before reaching the mandatory 120 ECTS of the study course.',\n",
       " 'Before you can start writing your Master’s thesis, it is highly recommended that you complete 75 ECTS of your study curriculum.',\n",
       " \"You can find a topic for your Master's thesis by attending a Master's seminar near the end of your studies and working on a topic that interests you. Your supervisor in the Master's seminar can also suggest a topic for your Master's thesis that builds upon the subject of the seminar. Alternatively, you can independently search for a Master's thesis topic by contacting chairs at FAU that perform research in the area of Data Science that interests you.\",\n",
       " 'To supervise a Master\\'s thesis, the person must be a professor or have a finished habilitation (recognized by the title \"Dr. habil.\" or \"PD\") and must have membership in one of the following departments: Department of Data Science, Department of Mathematics, Department of Computer Science, or Department of Artificial Intelligence in Biomedical Engineering (AIBE). Professors who are secondary members in these departments can also supervise the thesis.',\n",
       " \"Based on the provided context, it is possible for the supervisor of your Master's thesis to be from a different department. However, it is essential to ensure that the second examiner of your Master's thesis belongs to one of the specified departments. Additionally, if you wish to have a supervisor from a department outside the specified ones, you should seek permission from the admission committee in advance.\",\n",
       " \"Yes, it is possible to complete your Master's thesis while working in a company. However, the thesis topic must align with the research conducted at specific departments mentioned in the context. Additionally, it is mandatory to have a supervisor from the university for a company-based thesis.\",\n",
       " \"Yes, it is necessary to have a university supervisor for a company-based thesis. The supervisor, along with a second examiner from the university, is responsible for grading the Master's thesis, and external individuals from a company cannot fulfill this role.\",\n",
       " \"The process for registering your Master's thesis involves completing a form, which can be obtained from a specific location provided in the document. It is essential to discuss the thesis registration with your respective professor before sending the form. The form should be filled out with the assistance of your supervisor and submitted to the examinations office via post mail. Once the registration form is submitted and your thesis is registered, you will have a total of six months to submit your final Master’s thesis.\",\n",
       " \"After completing your Master's thesis, you should first ensure that your supervisor is content with the result. Then, you need to print two copies of your thesis and send them to the examination office. If you have developed your own code for the thesis, provide a copy of it to your supervisor on a USB stick. The two examinators will review your thesis for the final grade.\"]"
      ]
     },
     "execution_count": 8,
     "metadata": {},
     "output_type": "execute_result"
    }
   ],
   "source": [
    "answers"
   ]
  },
  {
   "cell_type": "code",
   "execution_count": null,
   "metadata": {},
   "outputs": [],
   "source": []
  }
 ],
 "metadata": {
  "kernelspec": {
   "display_name": "base",
   "language": "python",
   "name": "python3"
  },
  "language_info": {
   "codemirror_mode": {
    "name": "ipython",
    "version": 3
   },
   "file_extension": ".py",
   "mimetype": "text/x-python",
   "name": "python",
   "nbconvert_exporter": "python",
   "pygments_lexer": "ipython3",
   "version": "3.11.7"
  }
 },
 "nbformat": 4,
 "nbformat_minor": 2
}
