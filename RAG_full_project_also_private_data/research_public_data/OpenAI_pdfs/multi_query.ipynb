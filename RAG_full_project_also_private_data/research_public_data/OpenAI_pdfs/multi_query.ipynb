{
 "cells": [
  {
   "cell_type": "code",
   "execution_count": 1,
   "metadata": {},
   "outputs": [],
   "source": [
    "import os\n",
    "import sys\n",
    "os.environ[\"LANGCHAIN_TRACING_V2\"] = \"true\"\n",
    "os.environ[\"LANGCHAIN_ENDPOINT\"] = \"https://api.smith.langchain.com\""
   ]
  },
  {
   "cell_type": "code",
   "execution_count": 2,
   "metadata": {},
   "outputs": [],
   "source": [
    "keys_path = os.path.abspath('../../keys')\n",
    "sys.path.append(keys_path)\n",
    "from keys import LANGCHAIN_API_KEY, OPENAI_API_KEY\n",
    "os.environ[\"LANGCHAIN_API_KEY\"] = LANGCHAIN_API_KEY\n",
    "os.environ['OPENAI_API_KEY'] = OPENAI_API_KEY\n",
    "\n",
    "pdfs_path = os.path.abspath('../../public_data_pdfs')"
   ]
  },
  {
   "cell_type": "code",
   "execution_count": 3,
   "metadata": {},
   "outputs": [],
   "source": [
    "import os\n",
    "from langchain_community.document_loaders import PyPDFLoader\n",
    "from langchain.text_splitter import TokenTextSplitter\n",
    "from langchain_community.vectorstores import Chroma\n",
    "from langchain_openai import OpenAIEmbeddings\n",
    "from langchain.text_splitter import RecursiveCharacterTextSplitter\n",
    "\n",
    "# Get all PDF files in the directory\n",
    "pdf_files = [file for file in os.listdir(pdfs_path) if file.endswith('.pdf')]\n",
    "\n",
    "# Create a list of full paths by joining the base folder with each file name\n",
    "pdf_paths = [os.path.join(pdfs_path, pdf_file) for pdf_file in pdf_files]\n",
    "\n",
    "# Initialize an empty list to hold all document splits\n",
    "all_doc_splits = []\n",
    "\n",
    "# Define the text splitter with a chunk size of 1000 tokens and 200 overlap\n",
    "text_splitter = RecursiveCharacterTextSplitter.from_tiktoken_encoder(\n",
    "    chunk_size=1000, \n",
    "    chunk_overlap=200)\n",
    "\n",
    "# Iterate over each PDF file path\n",
    "for pdf_path in pdf_paths:\n",
    "    # Load the PDF\n",
    "    pdf_loader = PyPDFLoader(pdf_path)\n",
    "    documents = pdf_loader.load()\n",
    "    \n",
    "    # Split the documents into chunks\n",
    "    doc_splits = text_splitter.split_documents(documents)\n",
    "    \n",
    "    # Add the splits to the overall list\n",
    "    all_doc_splits.extend(doc_splits)"
   ]
  },
  {
   "cell_type": "code",
   "execution_count": 4,
   "metadata": {},
   "outputs": [],
   "source": [
    "# Index\n",
    "from langchain_openai import OpenAIEmbeddings\n",
    "from langchain_community.vectorstores import SKLearnVectorStore\n",
    "\n",
    "vectorstore = SKLearnVectorStore.from_documents(documents=all_doc_splits, \n",
    "                                    embedding=OpenAIEmbeddings())\n",
    "\n",
    "retriever = vectorstore.as_retriever()"
   ]
  },
  {
   "cell_type": "code",
   "execution_count": 5,
   "metadata": {},
   "outputs": [],
   "source": [
    "from langchain.prompts import ChatPromptTemplate\n",
    "\n",
    "# Multi Query: Different Perspectives\n",
    "template = \"\"\"You are an AI language model assistant. Your task is to generate five \n",
    "different versions of the given user question to retrieve relevant documents from a vector \n",
    "database. By generating multiple perspectives on the user question, your goal is to help\n",
    "the user overcome some of the limitations of the distance-based similarity search. \n",
    "Provide these alternative questions separated by newlines. Original question: {question}\"\"\"\n",
    "prompt_perspectives = ChatPromptTemplate.from_template(template)\n",
    "\n",
    "from langchain_core.output_parsers import StrOutputParser\n",
    "from langchain_openai import ChatOpenAI\n",
    "\n",
    "generate_queries = (\n",
    "    prompt_perspectives \n",
    "    | ChatOpenAI(temperature=0) \n",
    "    | StrOutputParser() \n",
    "    | (lambda x: x.split(\"\\n\"))\n",
    ")"
   ]
  },
  {
   "cell_type": "code",
   "execution_count": 6,
   "metadata": {},
   "outputs": [],
   "source": [
    "questions = [\n",
    "    'Will the language of instruction of my Bachelor’s degree suffice to demonstrate my proficiency in English for admission in Msc Data Science at FAU Erlangen?',\n",
    "    'Is an APS certificate mandatory for Indian students during the application process?',\n",
    "    'How long does it typically take to receive a decision regarding my application to the MSc Data Science program?',\n",
    "    'Am I eligible to apply for the study course program with a degree from a technical university or a university of applied sciences?',\n",
    "    'Can I apply for the study course program with a degree obtained through a dual study program?',\n",
    "    'What could be the reasons for receiving a rejection for my application?',\n",
    "    'Is it possible to defer my admission to a future semester?',\n",
    "    'Where can I find accommodation while studying at FAU?',\n",
    "    'Can I switch my major subject after being admitted?',\n",
    "    'Is it allowed to combine modules from different application subjects?',\n",
    "    'How can I transfer ECTS credits from one module group to another?',\n",
    "    'Can modules from my major subject count towards my minor subject requirements?',\n",
    "    'Can my werkstudent experience be used to earn ECTS as a technical qualification?',\n",
    "    'Can I participate in an examination without prior registration?',\n",
    "    'How do I register for a module’s examination in Campo within the correct specialisation area?',\n",
    "    'If I fail an examination on the first attempt, is it mandatory to attend the next attempt?',\n",
    "    'Is it possible to withdraw from an examination after registering?',\n",
    "    'What should I do if I cannot attend an examination due to illness?',\n",
    "    'What are the consequences of failing an examination three times?',\n",
    "    'Can I retake a completed module to improve my grades?',\n",
    "    'Is it possible to improve my grades by completing additional modules?',\n",
    "    'How many ECTS credits are required before I can start writing my Master’s thesis?',\n",
    "    'How can I find a topic for my Master’s thesis?',\n",
    "    'Who is eligible to supervise my Master’s thesis?',\n",
    "    'Can my Master’s thesis supervisor be from a different department?',\n",
    "    'Is it possible to complete my Master’s thesis while working in a company?',\n",
    "    'Is it necessary to have a university supervisor for a company-based thesis?',\n",
    "    'What is the process for registering my Master’s thesis?',\n",
    "    'What steps should I take after completing my Master’s thesis?'\n",
    "]"
   ]
  },
  {
   "cell_type": "code",
   "execution_count": 7,
   "metadata": {},
   "outputs": [],
   "source": [
    "from langchain.load import dumps, loads\n",
    "\n",
    "def get_unique_union(documents: list[list]):\n",
    "    \"\"\" Unique union of retrieved docs \"\"\"\n",
    "    # Flatten list of lists, and convert each Document to string\n",
    "    flattened_docs = [dumps(doc) for sublist in documents for doc in sublist]\n",
    "    # Get unique documents\n",
    "    unique_docs = list(set(flattened_docs))\n",
    "    # Return\n",
    "    return [loads(doc) for doc in unique_docs]"
   ]
  },
  {
   "cell_type": "code",
   "execution_count": 8,
   "metadata": {},
   "outputs": [
    {
     "name": "stderr",
     "output_type": "stream",
     "text": [
      "c:\\Users\\Ekaansh_Khosla\\anaconda3\\Lib\\site-packages\\langchain_core\\_api\\beta_decorator.py:87: LangChainBetaWarning: The function `loads` is in beta. It is actively being worked on, so the API may change.\n",
      "  warn_beta(\n"
     ]
    }
   ],
   "source": [
    "answers = []\n",
    "for question in questions:\n",
    "    retrieval_chain = generate_queries | retriever.map() | get_unique_union\n",
    "    docs = retrieval_chain.invoke({\"question\":question})\n",
    "\n",
    "    from operator import itemgetter\n",
    "    from langchain_openai import ChatOpenAI\n",
    "    from langchain_core.runnables import RunnablePassthrough\n",
    "\n",
    "    # RAG\n",
    "    template = \"\"\"Answer the following question based on this context:\n",
    "\n",
    "    {context}\n",
    "\n",
    "    Question: {question}\n",
    "    \"\"\"\n",
    "\n",
    "    prompt = ChatPromptTemplate.from_template(template)\n",
    "\n",
    "    llm = ChatOpenAI(temperature=0)\n",
    "\n",
    "    final_rag_chain = (\n",
    "        {\"context\": retrieval_chain, \n",
    "        \"question\": itemgetter(\"question\")} \n",
    "        | prompt\n",
    "        | llm\n",
    "        | StrOutputParser()\n",
    "    )\n",
    "\n",
    "    ans = final_rag_chain.invoke({\"question\":question})\n",
    "    answers.append(ans)"
   ]
  },
  {
   "cell_type": "code",
   "execution_count": 10,
   "metadata": {},
   "outputs": [
    {
     "data": {
      "text/plain": [
       "[\"Based on the provided context, if your Bachelor's degree was taught in English, then you can apply with a certificate from your university stating that the language of instruction for your degree was in English. This should be sufficient to demonstrate your proficiency in English for admission to the MSc Data Science program at FAU Erlangen.\",\n",
       " 'Yes, an APS certificate is mandatory for Indian students during the application process at FAU as well as for applying for the study visa.',\n",
       " \"It typically takes about 4 weeks after the application deadline to receive a decision regarding your application to the MSc Data Science program. If you have not received any answer after 4 weeks, it is recommended to be patient. If there is still no response after 8 weeks, it is advised to politely ask the Master's Office about the current state of your application.\",\n",
       " 'Yes, you are eligible to apply for the study course program with a degree from a technical university or a university of applied sciences. Any degree from a technical university or university of applied sciences will be treated equally with a degree from a university.',\n",
       " 'Answer: Yes, you can apply for the study course program with a degree obtained through a dual study program. Your degree from a dual study program will be treated equally with a degree from a university if it consists of at least 180 ECTS credits completed at a university.',\n",
       " 'The reasons for receiving a rejection for an application could include not having the required qualification for the study course program, such as not having a completed B.Sc. degree in specific fields like Mathematics, Industrial Mathematics, Mathematical Economy, Computer Science, Data Science, or Physics from the university or an equivalent domestic or international degree that aligns with the competence profile taught in the respective degree.',\n",
       " 'Based on the provided context, it is possible to defer admission to an upcoming semester.',\n",
       " 'Answer: You can find accommodation while studying at FAU by reading the website with helpful links provided by FAU at https://www.fau.eu/education/student-life/accommodation-2/. Additionally, you can consider sharing a flat with other students or explore offers on websites such as wg-gesucht.de, immobilienscout24.de, and wg-suche.de. You can also join dedicated groups for accommodations in Erlangen on social networks like Facebook or contact accommodation@fau.de for assistance.',\n",
       " 'Based on the provided context, yes, you can change your major subject at any time without any formal process. It is recommended to discuss any changes to your study plan agreement with your mentor.',\n",
       " 'Yes, it is allowed to combine modules from different application subjects.',\n",
       " 'Answer: To transfer ECTS credits from one module group to another, you should send a polite email to the examination office and ask for the transfer of credits. It is recommended to do this near the end of your studies to collect all necessary changes and minimize the work effort for the examination office.',\n",
       " 'No, modules for the minor subject must be chosen from specializations other than the major subject.',\n",
       " 'Yes, your werkstudent experience can be used to earn ECTS as a technical qualification if you work longer than 4 weeks in a company and if your tasks are related to Data Science. However, the examination committee has to agree to your work description in order for it to be usable as a module. Typically, you will also have to submit a short report (~10 pages) about your working tasks.',\n",
       " 'No, you can only participate in an examination if you have previously registered for it on the Campo portal within the exam registration period. If you miss the exam registration period, the examination office will not register you for examinations subsequently.',\n",
       " \"To register for a module's examination in Campo within the correct specialisation area, you need to follow these steps:\\n\\n1. Log in to Campo and click on Home → My studies → Study planner with module plan.\\n2. Use the view options to show all examinations, hide all lectures, and expand all modules.\\n3. Use your browser's search function to find the module you are looking for in the desired module group.\\n4. Click on the title of the module in the desired module group to make the Register button available.\\n5. If you encounter any issues or the module is shown in gray, indicating a problem in the system, you should contact studiengangskoordination-datascience@math.fau.de for assistance.\",\n",
       " 'Based on the provided context, if you fail an examination on the first attempt, it is mandatory to attend the next attempt. The examination office will automatically register you for the next attempt, and you can only step back from it with a medical certificate verifying that you are unable to attend the examination. Failure to attend the examination will be counted as a failed attempt.',\n",
       " 'Yes, it is possible to withdraw from an examination after registering. If you have not yet attended the examination before, you can withdraw without stating reasons until three working days before the examination. You can use the \"Deregister\" button in the Campo system for this purpose. However, if you have attempted the examination before, you can only withdraw with a medical certificate verifying that you are unable to attend the examination. Failure to attend the examination without proper documentation will be counted as a failed attempt.',\n",
       " 'If you cannot attend an examination due to illness, you should submit a notification of illness to the examination office by filling out the provided form within three days. Additionally, you must submit a medical certificate about your illness in original to the examination office. Failure to submit these documents in the specified time and not attending the examination will result in it being counted as a failed attempt.',\n",
       " 'After failing an examination three times, the module will be counted as not being passed. This state cannot be changed, and the module cannot be passed in the future. If the module is a core module of the study course, the student cannot continue their studies in that specific study course program at FAU.',\n",
       " 'No, you cannot retake a completed module to improve your grades. The only way to improve your grades is by completing additional modules with a better grade within the same module group.',\n",
       " \"Yes, you can improve your grades by completing additional modules before reaching the mandatory 120 ECTS of the study course. However, once you reach the required amount of ECTS in all module groups, including the Master seminar and Master's thesis, you will be automatically exmatriculated at the end of the current semester.\",\n",
       " 'To start writing your Master’s thesis, it is highly recommended that you complete 75 ECTS credits of your study curriculum.',\n",
       " 'Answer: The easiest way to find a topic for your Master’s thesis is to attend a Master’s seminar near the end of your studies and work on a topic that you are interested in. In many cases, your supervisor in the Master’s seminar can suggest you a topic for your Master’s thesis that directly builds upon the subject of your Master’s seminar. Alternatively, you can also search for a Master’s thesis topic independently of your Master’s seminar by contacting the chairs at FAU that perform research in the area of Data Science in which you are interested and politely ask for the possibility to write a Master’s thesis at that chair.',\n",
       " 'Answer: Professors or individuals with a finished habilitation (recognized by the title \"Dr. habil.\" or \"PD\") who are members of the Department of Data Science, Department of Mathematics, Department of Computer Science, or Department of Artificial Intelligence in Biomedical Engineering (AIBE) at FAU are eligible to supervise a Master\\'s thesis. Additionally, professors who are secondary members in these departments can also serve as supervisors.',\n",
       " \"Based on the provided context, the Master’s thesis supervisor must be from specific departments such as the Department of Data Science, Department of Mathematics, Department of Computer Science, or Department of Artificial Intelligence in Biomedical Engineering (AIBE). In some cases, exceptions may be allowed by the examination committee if the proposed topic aligns well with the study program and the supervisor agrees to meet the committee's requirements. It is essential to confirm with the admission committee in advance if you wish to have a supervisor from a different department for your Master’s thesis.\",\n",
       " 'Yes, it is possible to complete your Master’s thesis while working in a company. However, the thesis topic must align with the research conducted at specific departments mentioned in the context. It is necessary to contact professors from these departments to serve as your official supervisor at the university.',\n",
       " 'Yes, it is necessary to have a university supervisor for a company-based thesis.',\n",
       " 'To register your Master’s thesis, you need to complete a form which can be obtained from a specific location. It is essential to discuss the registration with your professor before sending the form. Fill out the form with the help of your supervisor and submit it to the examinations office via post mail or email. Once the registration form is submitted and your thesis is registered, you will have six months to submit your final Master’s thesis.',\n",
       " \"After completing your Master's thesis, you should print it twice and send it to the examination office. If you have developed your own code for the thesis, provide a copy of the code to your supervisor on a USB stick. The two examinators will receive the hard copies of your thesis and review it for the final grade.\"]"
      ]
     },
     "execution_count": 10,
     "metadata": {},
     "output_type": "execute_result"
    }
   ],
   "source": [
    "answers"
   ]
  },
  {
   "cell_type": "code",
   "execution_count": null,
   "metadata": {},
   "outputs": [],
   "source": []
  }
 ],
 "metadata": {
  "kernelspec": {
   "display_name": "base",
   "language": "python",
   "name": "python3"
  },
  "language_info": {
   "codemirror_mode": {
    "name": "ipython",
    "version": 3
   },
   "file_extension": ".py",
   "mimetype": "text/x-python",
   "name": "python",
   "nbconvert_exporter": "python",
   "pygments_lexer": "ipython3",
   "version": "3.11.7"
  }
 },
 "nbformat": 4,
 "nbformat_minor": 2
}
