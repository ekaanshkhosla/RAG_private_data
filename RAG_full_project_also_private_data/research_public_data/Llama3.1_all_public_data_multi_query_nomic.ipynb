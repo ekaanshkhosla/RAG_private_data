{
 "cells": [
  {
   "cell_type": "code",
   "execution_count": 1,
   "metadata": {},
   "outputs": [
    {
     "data": {
      "text/plain": [
       "True"
      ]
     },
     "execution_count": 1,
     "metadata": {},
     "output_type": "execute_result"
    }
   ],
   "source": [
    "import os\n",
    "from dotenv import load_dotenv\n",
    "\n",
    "# Load environment variables from the .env file\n",
    "load_dotenv(dotenv_path=\"../keys/.env\")"
   ]
  },
  {
   "cell_type": "code",
   "execution_count": 2,
   "metadata": {},
   "outputs": [],
   "source": [
    "langchain_api_key = os.getenv(\"LANGCHAIN_API_KEY\")"
   ]
  },
  {
   "cell_type": "code",
   "execution_count": 3,
   "metadata": {},
   "outputs": [],
   "source": [
    "import os\n",
    "\n",
    "os.environ[\"LANGCHAIN_TRACING_V2\"] = \"true\"\n",
    "os.environ[\"LANGCHAIN_ENDPOINT\"] = \"https://api.smith.langchain.com\"\n",
    "langchain_api_key = os.getenv(\"LANGCHAIN_API_KEY\")"
   ]
  },
  {
   "cell_type": "code",
   "execution_count": 4,
   "metadata": {},
   "outputs": [
    {
     "name": "stderr",
     "output_type": "stream",
     "text": [
      "USER_AGENT environment variable not set, consider setting it to identify your requests.\n"
     ]
    }
   ],
   "source": [
    "from langchain_community.document_loaders import PyPDFLoader, WebBaseLoader\n",
    "from langchain.text_splitter import RecursiveCharacterTextSplitter\n",
    "\n",
    "# List of PDF file paths\n",
    "pdf_dir = \"../data/pdfs\"\n",
    "pdf_files = [os.path.join(pdf_dir, file) for file in os.listdir(pdf_dir) if file.endswith(\".pdf\")]\n",
    "\n",
    "# URLs to load\n",
    "urls = [\n",
    "    \"https://www.math-datascience.nat.fau.de/im-studium/masterstudiengaenge/master-data-science/\",\n",
    "    \"https://www.fau.eu/studiengang/data-science-bsc/\",\n",
    "    \"https://www.fau.eu/studiengang/data-science-msc/\",\n",
    "]\n",
    "\n",
    "# Initialize an empty list to hold all document splits\n",
    "all_doc_splits = []\n",
    "\n",
    "# Define the text splitter with a chunk size of 1000 characters and overlap of 200\n",
    "text_splitter = RecursiveCharacterTextSplitter.from_tiktoken_encoder(\n",
    "    chunk_size=1000, \n",
    "    chunk_overlap=200)\n",
    "\n",
    "### Process PDF files ###\n",
    "for pdf_file in pdf_files:\n",
    "    # Load the PDF\n",
    "    pdf_loader = PyPDFLoader(pdf_file)\n",
    "    documents = pdf_loader.load()\n",
    "    \n",
    "    # Split the documents into chunks\n",
    "    doc_splits = text_splitter.split_documents(documents)\n",
    "    \n",
    "    # Add the splits to the overall list\n",
    "    all_doc_splits.extend(doc_splits)\n",
    "\n",
    "### Process Web URLs ###\n",
    "docs = [WebBaseLoader(url).load() for url in urls]\n",
    "docs_list = [item for sublist in docs for item in sublist]\n",
    "\n",
    "# Split the web documents into chunks\n",
    "web_doc_splits = text_splitter.split_documents(docs_list)\n",
    "\n",
    "# Add the web document splits to the overall list\n",
    "all_doc_splits.extend(web_doc_splits)\n",
    "\n",
    "# Now, all_doc_splits contains the splits from both the PDF files and the web documents."
   ]
  },
  {
   "cell_type": "code",
   "execution_count": 5,
   "metadata": {},
   "outputs": [],
   "source": [
    "nomic_api_key = os.getenv(\"NOMIC_API_KEY\")"
   ]
  },
  {
   "cell_type": "code",
   "execution_count": 6,
   "metadata": {},
   "outputs": [],
   "source": [
    "openAI_api_key = os.getenv(\"OPENAI_API_KEY\")"
   ]
  },
  {
   "cell_type": "code",
   "execution_count": 7,
   "metadata": {},
   "outputs": [
    {
     "name": "stdout",
     "output_type": "stream",
     "text": [
      "175\n"
     ]
    }
   ],
   "source": [
    "print(len(all_doc_splits))"
   ]
  },
  {
   "cell_type": "code",
   "execution_count": 8,
   "metadata": {},
   "outputs": [],
   "source": [
    "# Index\n",
    "from langchain_openai import OpenAIEmbeddings\n",
    "from langchain_community.vectorstores import Chroma\n",
    "from langchain_nomic import NomicEmbeddings\n",
    "from langchain_community.vectorstores import FAISS\n",
    "\n",
    "\n",
    "vectorstore = FAISS.from_documents(documents=all_doc_splits, \n",
    "                                    embedding=NomicEmbeddings(model=\"nomic-embed-text-v1.5\"))\n",
    "\n",
    "retriever = vectorstore.as_retriever()"
   ]
  },
  {
   "cell_type": "code",
   "execution_count": 9,
   "metadata": {},
   "outputs": [],
   "source": [
    "groq_api_key = os.getenv(\"GROQ_API_KEY\")"
   ]
  },
  {
   "cell_type": "code",
   "execution_count": 10,
   "metadata": {},
   "outputs": [],
   "source": [
    "from langchain.prompts import ChatPromptTemplate\n",
    "from langchain_groq import ChatGroq\n",
    "\n",
    "# Define RAG prompt\n",
    "template = \"\"\"You are an AI language model assistant. Your task is to generate three \n",
    "different versions of the given user question to retrieve relevant documents from a vector \n",
    "database. By generating multiple perspectives on the user question, your goal is to help\n",
    "the user overcome some of the limitations of the distance-based similarity search. \n",
    "Provide just these three alternative questions separated by newlines and nothing else. Original question: {question}\"\"\"\n",
    "\n",
    "prompt_perspectives = ChatPromptTemplate.from_template(template)\n",
    "\n",
    "from langchain_core.output_parsers import StrOutputParser\n",
    "from langchain_openai import ChatOpenAI\n",
    "\n",
    "generate_queries = (\n",
    "    prompt_perspectives \n",
    "    | ChatGroq(model_name=\"llama-3.1-8b-instant\") \n",
    "    | StrOutputParser() \n",
    "    | (lambda x: x.split(\"\\n\\n\"))\n",
    ")"
   ]
  },
  {
   "cell_type": "code",
   "execution_count": 11,
   "metadata": {},
   "outputs": [],
   "source": [
    "questions = [\n",
    "    # 'Will the language of instruction of my Bachelor’s degree suffice to demonstrate my proficiency in English for admission in Msc Data Science at FAU Erlangen?',\n",
    "    # 'Is an APS certificate mandatory for Indian students during the application process?',\n",
    "    # 'How long does it typically take to receive a decision regarding my application to the MSc Data Science program?',\n",
    "    # 'Am I eligible to apply for the study course program with a degree from a technical university or a university of applied sciences?',\n",
    "    # 'Can I apply for the study course program with a degree obtained through a dual study program?',\n",
    "    # 'What could be the reasons for receiving a rejection for my application?',\n",
    "    # 'Is it possible to defer my admission to a future semester?',\n",
    "    # 'Where can I find accommodation while studying at FAU?',\n",
    "    # 'Can I switch my major subject after being admitted?',\n",
    "    # 'Is it allowed to combine modules from different application subjects?',\n",
    "    # 'How can I transfer ECTS credits from one module group to another?',\n",
    "    # 'Can modules from my major subject count towards my minor subject requirements?',\n",
    "    # 'Can my werkstudent experience be used to earn ECTS as a technical qualification?',\n",
    "    # 'Can I participate in an examination without prior registration?',\n",
    "    # 'How do I register for a module’s examination in Campo within the correct specialisation area?',\n",
    "    # 'If I fail an examination on the first attempt, is it mandatory to attend the next attempt?',\n",
    "    # 'Is it possible to withdraw from an examination after registering?',\n",
    "    # 'What should I do if I cannot attend an examination due to illness?',\n",
    "    # 'What are the consequences of failing an examination three times?',\n",
    "    # 'Can I retake a completed module to improve my grades?',\n",
    "    # 'Is it possible to improve my grades by completing additional modules?',\n",
    "    # 'How many ECTS credits are required before I can start writing my Master’s thesis?',\n",
    "    # 'How can I find a topic for my Master’s thesis?',\n",
    "    # 'Who is eligible to supervise my Master’s thesis?',\n",
    "    # 'Can my Master’s thesis supervisor be from a different department?',\n",
    "    # 'Is it possible to complete my Master’s thesis while working in a company?',\n",
    "    # 'Is it necessary to have a university supervisor for a company-based thesis?',\n",
    "    # 'What is the process for registering my Master’s thesis?',\n",
    "    # 'What steps should I take after completing my Master’s thesis?',\n",
    "\n",
    "    'What are the admission requirements of M.Sc. Data Science at FAU Erlangen?',\n",
    "    'How can I apply for M.Sc. Data Science at FAU Erlangen?',\n",
    "    'Is accommodation available at FAU Erlangen?',\n",
    "    'How can I finance my studies at FAU Erlangen?',\n",
    "    'What are the next steps if I get an admission at FAU Erlangen?',\n",
    "    'What is the duration of M.Sc. Data Science degree program at FAU Erlangen?',\n",
    "    'What is the teaching language of M.Sc. Data Science at FAU Erlangen?',\n",
    "    'What is the structure of M.Sc. Data Science at FAU Erlangen?',\n",
    "    'Is German required for M.Sc. Data Science at FAU Erlangen?',\n",
    "    'What is the duration of B.Sc. Data Science degree program at FAU Erlangen?',\n",
    "    'What is the teaching language of B.Sc. Data Science at FAU Erlangen?',\n",
    "    'What is the structure of B.Sc. Data Science FAU Erlangen?',\n",
    "    'What are the admission requirements of B.Sc. Data Science FAU Erlangen?'\n",
    "\n",
    "]"
   ]
  },
  {
   "cell_type": "code",
   "execution_count": 12,
   "metadata": {},
   "outputs": [],
   "source": [
    "from langchain.load import dumps, loads\n",
    "\n",
    "def get_unique_union(documents: list[list]):\n",
    "    \"\"\" Unique union of retrieved docs \"\"\"\n",
    "    # Flatten list of lists, and convert each Document to string\n",
    "    flattened_docs = [dumps(doc) for sublist in documents for doc in sublist]\n",
    "    # Get unique documents\n",
    "    unique_docs = list(set(flattened_docs))\n",
    "    # Return\n",
    "    return [loads(doc) for doc in unique_docs]"
   ]
  },
  {
   "cell_type": "code",
   "execution_count": 13,
   "metadata": {},
   "outputs": [
    {
     "name": "stderr",
     "output_type": "stream",
     "text": [
      "C:\\Users\\ekaan\\AppData\\Local\\Temp\\ipykernel_14380\\170002541.py:10: LangChainBetaWarning: The function `loads` is in beta. It is actively being worked on, so the API may change.\n",
      "  return [loads(doc) for doc in unique_docs]\n"
     ]
    }
   ],
   "source": [
    "answers = []\n",
    "for question in questions:\n",
    "    retrieval_chain = generate_queries | retriever.map() | get_unique_union\n",
    "    docs = retrieval_chain.invoke({\"question\":question})\n",
    "\n",
    "    from operator import itemgetter\n",
    "    from langchain_openai import ChatOpenAI\n",
    "    from langchain_core.runnables import RunnablePassthrough\n",
    "\n",
    "    # RAG\n",
    "    template = \"\"\"Answer the following question based on this context:\n",
    "\n",
    "    {context}\n",
    "\n",
    "    Question: {question}\n",
    "    \"\"\"\n",
    "\n",
    "\n",
    "    prompt = ChatPromptTemplate.from_template(template)\n",
    "\n",
    "    final_rag_chain = (\n",
    "        {\"context\": retrieval_chain, \n",
    "        \"question\": itemgetter(\"question\")} \n",
    "        | prompt\n",
    "        | ChatGroq(model_name=\"llama-3.1-8b-instant\")\n",
    "        | StrOutputParser()\n",
    "    )\n",
    "\n",
    "    ans = final_rag_chain.invoke({\"question\":question})\n",
    "    answers.append(ans)"
   ]
  },
  {
   "cell_type": "code",
   "execution_count": 28,
   "metadata": {},
   "outputs": [
    {
     "data": {
      "text/plain": [
       "['The admission requirements for M.Sc. Data Science at FAU Erlangen are:\\n\\n1. A completed B.Sc. degree in Mathematics, Industrial Mathematics, Mathematical Economy, Computer Science, Data Science, or Physics from FAU or another equivalent domestic or international degree that is not significantly different with regard to the competence profile taught in the respective degree.\\n2. A Grade Point Average (GPA) of 2.5 or better with respect to the German grading system.\\n3. English proficiency at level B2 CEFR (vantage or upper intermediate, not be older than 2 years) or six years of English classes at a German secondary school (Gymnasium). Applicants who have completed their university entrance qualifications or their first degree in English are not required to provide proof of proficiency in English.\\n\\nCandidates with an admissible degree (described above) and a GPA between 2.6 and 2.8 are invited for a short online interview in which their knowledge in calculus, linear algebra, algorithms, and data structures is evaluated.',\n",
       " 'To apply for the M.Sc. Data Science at FAU Erlangen, you can follow these steps:\\n\\n1. **Check the admission requirements**: Make sure you meet the admission requirements, which include a completed B.Sc. degree in a relevant field, a Grade Point Average (GPA) of 2.5 or better, and English proficiency at level B2 CEFR.\\n2. **Gather required documents**: Collect the necessary documents, including your degree certificate, transcripts, and language proficiency certificates.\\n3. **Register for the online application portal**: Go to the online application portal [www.campo.fau.eu](http://www.campo.fau.eu) and register for an account.\\n4. **Fill out the online application form**: Complete the online application form, which includes providing personal and academic information, as well as uploading your required documents.\\n5. **Submit your application**: Submit your application by the specified deadline, which is between February 15th and May 31st for the winter intake and between October 15th and November 30th for the summer intake.\\n\\n**Additional information**:\\n\\n* You can find more information on the application process on the FAU website: [www.fau.eu/education/application-and-enrolment/applying-for-masters-degree-programmes/](http://www.fau.eu/education/application-and-enrolment/applying-for-masters-degree-programmes/)\\n* The Master’s Office at FAU is responsible for handling application and admission processes. You can contact them at [zuv-masterbuero@fau.de](mailto:zuv-masterbuero@fau.de) for any questions or concerns.\\n* You can also read the Guide to the application process on the FAU website for more detailed information.',\n",
       " 'Yes, accommodation is available at FAU Erlangen. According to the provided documents, the university itself does not provide accommodation directly, but it offers some guidance and resources to help students find suitable accommodation.\\n\\nDocument 3, which is a PDF document titled \"general_info1.pdf\", suggests that students can find information on accommodation on the university\\'s website (https://www.fau.eu/education/student-life/accommodation-2/). Additionally, it provides some helpful links to websites where students can search for accommodation, such as WG-Gesucht, Immobilienscout24, and WG-Suche.\\n\\nDocument 4, which is another PDF document, also mentions that students can join dedicated groups for accommodation in social networks, such as Facebook, or contact the university\\'s accommodation office (accommodation@fau.de) if they need help finding a place to live.\\n\\nTherefore, while the university does not provide accommodation directly, it seems that there are various resources and options available for students to find suitable accommodation in Erlangen.',\n",
       " 'Based on the provided context, there are a few options mentioned to finance your studies at FAU Erlangen:\\n\\n1. Scholarships: International students can search for scholarships on the DAAD (German Academic Exchange Service) website.\\n2. Personal funds: International students usually use their own funds to finance their studies.\\n3. Other sources of funding: It is recommended to search for other sources of funding, but the specific options are not mentioned.\\n\\nIt is also mentioned that there is a semester fee / student services fee for each student, which is paid every semester. Further information regarding costs of studying, such as living or food, is provided.\\n\\nIt is worth noting that FAU Erlangen itself does not have any funding available to support international students with their living costs.',\n",
       " 'If you get an admission to FAU Erlangen, the next steps would be:\\n\\n1. **Enrolment**: After receiving your admission letter, you need to enrol for the next semester by sending your certified documents via postal service to the Student Records Office. You should transfer the enrolment fee several days in advance, especially if transferred from abroad.\\n\\n2. **Create a user account at FAU (IdM account)**: After enrolment, you will be given access to online teaching resources and several other important platforms. Start by creating a user account at FAU (IdM account) and get familiar with the two online platforms \"StudOn\" and \"Campo\", which will help you to plan and manage your courses.\\n\\n3. **Familiarize yourself with the online platforms**: Spend some time learning about the different features and tools available on the online platforms. This will help you to navigate the system and stay organized throughout your studies.\\n\\n4. **Plan your courses**: Use the online platform to plan your courses, check the schedules, and ensure that you have the necessary prerequisites for each course.\\n\\n5. **Attend the orientation courses**: FAU offers various orientation courses for international students, which can be found on the university\\'s website. These courses will help you to adjust to the new environment and get familiar with the German culture.\\n\\n6. **Find accommodation**: FAU does not offer accommodation, but they provide information on finding accommodation in Erlangen. You can also join dedicated groups for accommodations in social networks, such as Facebook.\\n\\n7. **Apply for scholarships**: As an international student, you might need to apply for scholarships to cover your living costs. You can search for scholarships on the DAAD website or through the German Student Union.\\n\\n8. **Get familiar with the campus**: Take some time to explore the campus, find the different buildings, and get familiar with the university\\'s facilities.\\n\\n9. **Meet with your academic advisor**: Your academic advisor will help you to plan your course schedule, choose your electives, and answer any questions you might have about the program.\\n\\n10. **Attend the welcome event**: FAU usually organizes a welcome event for international students, which is a great opportunity to meet other students, academics, and staff members.',\n",
       " 'The duration of the M.Sc. Data Science degree program at FAU Erlangen is 4 semesters.',\n",
       " 'The teaching language of the M.Sc. Data Science at FAU Erlangen is completely in English.',\n",
       " 'The structure of the M.Sc. Data Science at FAU Erlangen can be determined from the provided context. \\n\\nAccording to the information on the FAU Erlangen website, the M.Sc. in Data Science is a 4-semester program that can be started in either the summer or winter semester. The program is taught completely in English and has a large student body, with around 250-600 students.\\n\\nThe content of the program is not explicitly stated, but it is mentioned that students will gain a comprehensive understanding of data analytics, artificial intelligence, machine learning, and statistics. They will also learn how to create complex data models and apply them to different use cases.\\n\\nAdditional information can be found in the Frequently Asked Questions (FAQ) document for the M.Sc. Data Science program, which can be downloaded from the FAU Erlangen website. This document provides more details on the program structure, study plan agreement, and examination regulations.\\n\\nFurthermore, the FAQ document mentions that students can generate their study plan using the Study Plan Generator (SPLAG) on the FAU Erlangen website.\\n\\nIn summary, the structure of the M.Sc. Data Science at FAU Erlangen is a 4-semester program that is taught entirely in English and provides students with a comprehensive understanding of data analytics, artificial intelligence, machine learning, and statistics.',\n",
       " 'German language skills are not required for the M.Sc. Data Science program at FAU Erlangen. However, for everyday life and for internships and working student jobs, solid knowledge (B1) of German is recommended but not necessary for the application.',\n",
       " 'The B.Sc. Data Science degree program at FAU Erlangen-Nürnberg has a duration of 6 semesters.',\n",
       " 'The teaching language of B.Sc. Data Science at FAU Erlangen is completely in German.',\n",
       " 'According to the provided documents, the structure of the B.Sc. Data Science degree program at FAU Erlangen is as follows:\\n\\n- Degree: Bachelor of Science (B.Sc.)\\n- Duration: 6 semesters\\n- Start of degree program: Winter semester\\n- Study location: Erlangen\\n- Number of students: 50-150\\n- Subject group: Mathematics, Natural sciences\\n- Special ways to study: 1-subject Bachelor\\n- Teaching language: Completely in German\\n- Admission Requirements: No Admissions Restrictions\\n\\nPlease note that the information provided is based on the documents and might be subject to change.',\n",
       " 'Based on the provided context, the admission requirements for B.Sc. Data Science at FAU Erlangen are as follows:\\n\\n* No Admissions Restrictions\\n* General language skills: very good German language skills are generally required for international students. More detailed information on the accepted language certificates for international students can be found at https://www.fau.de/education/international/aus-dem-ausland-an-die-fau/bewerbung-und-einschreibung-fuer-internationale-bewerberinnen-und-bewerber/deutschkenntnisse-und-sprachzertifikate/.\\n* Application deadline for international applicants is July 15th.\\n* Applications have to be submitted via the campus management portal campo.fau.de.\\n* In addition to the general qualification for university entrance (Abitur), there are other access options for studying at FAU.']"
      ]
     },
     "execution_count": 28,
     "metadata": {},
     "output_type": "execute_result"
    }
   ],
   "source": [
    "(answers)"
   ]
  },
  {
   "cell_type": "code",
   "execution_count": null,
   "metadata": {},
   "outputs": [],
   "source": []
  }
 ],
 "metadata": {
  "kernelspec": {
   "display_name": "base",
   "language": "python",
   "name": "python3"
  },
  "language_info": {
   "codemirror_mode": {
    "name": "ipython",
    "version": 3
   },
   "file_extension": ".py",
   "mimetype": "text/x-python",
   "name": "python",
   "nbconvert_exporter": "python",
   "pygments_lexer": "ipython3",
   "version": "3.11.7"
  }
 },
 "nbformat": 4,
 "nbformat_minor": 2
}
