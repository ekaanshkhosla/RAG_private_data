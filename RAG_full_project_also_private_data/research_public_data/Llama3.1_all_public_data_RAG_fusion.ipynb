{
 "cells": [
  {
   "cell_type": "code",
   "execution_count": 2,
   "metadata": {},
   "outputs": [
    {
     "data": {
      "text/plain": [
       "True"
      ]
     },
     "execution_count": 2,
     "metadata": {},
     "output_type": "execute_result"
    }
   ],
   "source": [
    "import os\n",
    "from dotenv import load_dotenv\n",
    "\n",
    "# Load environment variables from the .env file\n",
    "load_dotenv(dotenv_path=\"../keys/.env\")"
   ]
  },
  {
   "cell_type": "code",
   "execution_count": 3,
   "metadata": {},
   "outputs": [],
   "source": [
    "langchain_api_key = os.getenv(\"LANGCHAIN_API_KEY\")"
   ]
  },
  {
   "cell_type": "code",
   "execution_count": 4,
   "metadata": {},
   "outputs": [],
   "source": [
    "import os\n",
    "\n",
    "os.environ[\"LANGCHAIN_TRACING_V2\"] = \"true\"\n",
    "os.environ[\"LANGCHAIN_ENDPOINT\"] = \"https://api.smith.langchain.com\"\n",
    "langchain_api_key = os.getenv(\"LANGCHAIN_API_KEY\")"
   ]
  },
  {
   "cell_type": "code",
   "execution_count": 5,
   "metadata": {},
   "outputs": [],
   "source": [
    "openAI_api_key = os.getenv(\"OPENAI_API_KEY\")"
   ]
  },
  {
   "cell_type": "code",
   "execution_count": 6,
   "metadata": {},
   "outputs": [
    {
     "name": "stderr",
     "output_type": "stream",
     "text": [
      "USER_AGENT environment variable not set, consider setting it to identify your requests.\n"
     ]
    }
   ],
   "source": [
    "from langchain_community.document_loaders import PyPDFLoader, WebBaseLoader\n",
    "from langchain.text_splitter import RecursiveCharacterTextSplitter\n",
    "\n",
    "# List of PDF file paths\n",
    "pdf_dir = \"../data/pdfs\"\n",
    "pdf_files = [os.path.join(pdf_dir, file) for file in os.listdir(pdf_dir) if file.endswith(\".pdf\")]\n",
    "\n",
    "# URLs to load\n",
    "urls = [\n",
    "    \"https://www.math-datascience.nat.fau.de/im-studium/masterstudiengaenge/master-data-science/\",\n",
    "    \"https://www.fau.eu/studiengang/data-science-bsc/\",\n",
    "    \"https://www.fau.eu/studiengang/data-science-msc/\",\n",
    "]\n",
    "\n",
    "# Initialize an empty list to hold all document splits\n",
    "all_doc_splits = []\n",
    "\n",
    "# Define the text splitter with a chunk size of 1000 characters and overlap of 200\n",
    "text_splitter = RecursiveCharacterTextSplitter.from_tiktoken_encoder(\n",
    "    chunk_size=1000, \n",
    "    chunk_overlap=200)\n",
    "\n",
    "### Process PDF files ###\n",
    "for pdf_file in pdf_files:\n",
    "    # Load the PDF\n",
    "    pdf_loader = PyPDFLoader(pdf_file)\n",
    "    documents = pdf_loader.load()\n",
    "    \n",
    "    # Split the documents into chunks\n",
    "    doc_splits = text_splitter.split_documents(documents)\n",
    "    \n",
    "    # Add the splits to the overall list\n",
    "    all_doc_splits.extend(doc_splits)\n",
    "\n",
    "### Process Web URLs ###\n",
    "docs = [WebBaseLoader(url).load() for url in urls]\n",
    "docs_list = [item for sublist in docs for item in sublist]\n",
    "\n",
    "# Split the web documents into chunks\n",
    "web_doc_splits = text_splitter.split_documents(docs_list)\n",
    "\n",
    "# Add the web document splits to the overall list\n",
    "all_doc_splits.extend(web_doc_splits)\n",
    "\n",
    "# Now, all_doc_splits contains the splits from both the PDF files and the web documents."
   ]
  },
  {
   "cell_type": "code",
   "execution_count": 7,
   "metadata": {},
   "outputs": [],
   "source": [
    "# Index\n",
    "from langchain_openai import OpenAIEmbeddings\n",
    "from langchain_community.vectorstores import Chroma\n",
    "from langchain_community.vectorstores import SKLearnVectorStore\n",
    "from langchain_community.vectorstores import FAISS\n",
    "\n",
    "\n",
    "vectorstore = FAISS.from_documents(documents=all_doc_splits, \n",
    "                                    embedding=OpenAIEmbeddings())\n",
    "\n",
    "retriever = vectorstore.as_retriever()"
   ]
  },
  {
   "cell_type": "code",
   "execution_count": 8,
   "metadata": {},
   "outputs": [],
   "source": [
    "groq_api_key = os.getenv(\"GROQ_API_KEY\")"
   ]
  },
  {
   "cell_type": "code",
   "execution_count": 9,
   "metadata": {},
   "outputs": [],
   "source": [
    "from langchain.prompts import ChatPromptTemplate\n",
    "from langchain_groq import ChatGroq\n",
    "\n",
    "# RAG-Fusion: Related\n",
    "template = \"\"\"You are an AI language model assistant. Your task is to generate five \n",
    "different versions of the given user question to retrieve relevant documents from a vector \n",
    "database. By generating multiple perspectives on the user question, your goal is to help\n",
    "the user overcome some of the limitations of the distance-based similarity search. \n",
    "Provide these alternative questions separated by newlines and give only questions not anything else, not even statements like Here are five search queries:. Original question: {question}\"\"\"\n",
    "prompt_rag_fusion = ChatPromptTemplate.from_template(template)\n",
    "\n",
    "\n",
    "from langchain_core.output_parsers import StrOutputParser\n",
    "from langchain_openai import ChatOpenAI\n",
    "\n",
    "generate_queries = (\n",
    "    prompt_rag_fusion \n",
    "    | ChatGroq(model_name=\"llama-3.1-70b-versatile\")\n",
    "    | StrOutputParser() \n",
    "    | (lambda x: x.split(\"\\n\"))\n",
    ")"
   ]
  },
  {
   "cell_type": "code",
   "execution_count": 10,
   "metadata": {},
   "outputs": [],
   "source": [
    "questions = [\n",
    "    # 'Will the language of instruction of my Bachelor’s degree suffice to demonstrate my proficiency in English for admission in Msc Data Science at FAU Erlangen?',\n",
    "    # 'Is an APS certificate mandatory for Indian students during the application process?',\n",
    "    # 'How long does it typically take to receive a decision regarding my application to the MSc Data Science program?',\n",
    "    # 'Am I eligible to apply for the study course program with a degree from a technical university or a university of applied sciences?',\n",
    "    # 'Can I apply for the study course program with a degree obtained through a dual study program?',\n",
    "    # 'What could be the reasons for receiving a rejection for my application?',\n",
    "    # 'Is it possible to defer my admission to a future semester?',\n",
    "    # 'Where can I find accommodation while studying at FAU?',\n",
    "    # 'Can I switch my major subject after being admitted?',\n",
    "    # 'Is it allowed to combine modules from different application subjects?',\n",
    "    # 'How can I transfer ECTS credits from one module group to another?',\n",
    "    # 'Can modules from my major subject count towards my minor subject requirements?',\n",
    "    # 'Can my werkstudent experience be used to earn ECTS as a technical qualification?',\n",
    "    # 'Can I participate in an examination without prior registration?',\n",
    "    # 'How do I register for a module’s examination in Campo within the correct specialisation area?',\n",
    "    # 'If I fail an examination on the first attempt, is it mandatory to attend the next attempt?',\n",
    "    # 'Is it possible to withdraw from an examination after registering?',\n",
    "    # 'What should I do if I cannot attend an examination due to illness?',\n",
    "    # 'What are the consequences of failing an examination three times?',\n",
    "    # 'Can I retake a completed module to improve my grades?',\n",
    "    # 'Is it possible to improve my grades by completing additional modules?',\n",
    "    # 'How many ECTS credits are required before I can start writing my Master’s thesis?',\n",
    "    # 'How can I find a topic for my Master’s thesis?',\n",
    "    # 'Who is eligible to supervise my Master’s thesis?',\n",
    "    # 'Can my Master’s thesis supervisor be from a different department?',\n",
    "    # 'Is it possible to complete my Master’s thesis while working in a company?',\n",
    "    # 'Is it necessary to have a university supervisor for a company-based thesis?',\n",
    "    # 'What is the process for registering my Master’s thesis?',\n",
    "    # 'What steps should I take after completing my Master’s thesis?',\n",
    "\n",
    "    'What are the admission requirements of M.Sc. Data Science at FAU Erlangen?',\n",
    "    'How can I apply for M.Sc. Data Science at FAU Erlangen?',\n",
    "    'Is accommodation available at FAU Erlangen?',\n",
    "    'How can I finance my studies at FAU Erlangen?',\n",
    "    'What are the next steps if I get an admission at FAU Erlangen?',\n",
    "    'What is the duration of M.Sc. Data Science degree program at FAU Erlangen?',\n",
    "    'What is the teaching language of M.Sc. Data Science at FAU Erlangen?',\n",
    "    'What is the structure of M.Sc. Data Science at FAU Erlangen?',\n",
    "    'Is German required for M.Sc. Data Science at FAU Erlangen?',\n",
    "    'What is the duration of B.Sc. Data Science degree program at FAU Erlangen?',\n",
    "    'What is the teaching language of B.Sc. Data Science at FAU Erlangen?',\n",
    "    'What is the structure of B.Sc. Data Science FAU Erlangen?',\n",
    "    'What are the admission requirements of B.Sc. Data Science FAU Erlangen?'\n",
    "\n",
    "]"
   ]
  },
  {
   "cell_type": "code",
   "execution_count": 11,
   "metadata": {},
   "outputs": [],
   "source": [
    "from langchain.load import dumps, loads\n",
    "\n",
    "def reciprocal_rank_fusion(results: list[list], k=60):\n",
    "    \"\"\" Reciprocal_rank_fusion that takes multiple lists of ranked documents \n",
    "        and an optional parameter k used in the RRF formula \"\"\"\n",
    "    \n",
    "    # Initialize a dictionary to hold fused scores for each unique document\n",
    "    fused_scores = {}\n",
    "\n",
    "    # Iterate through each list of ranked documents\n",
    "    for docs in results:\n",
    "        # Iterate through each document in the list, with its rank (position in the list)\n",
    "        for rank, doc in enumerate(docs):\n",
    "            # Convert the document to a string format to use as a key (assumes documents can be serialized to JSON)\n",
    "            doc_str = dumps(doc)\n",
    "            # If the document is not yet in the fused_scores dictionary, add it with an initial score of 0\n",
    "            if doc_str not in fused_scores:\n",
    "                fused_scores[doc_str] = 0\n",
    "            # Retrieve the current score of the document, if any\n",
    "            previous_score = fused_scores[doc_str]\n",
    "            # Update the score of the document using the RRF formula: 1 / (rank + k)\n",
    "            fused_scores[doc_str] += 1 / (rank + k)\n",
    "\n",
    "    # Sort the documents based on their fused scores in descending order to get the final reranked results\n",
    "    reranked_results = [\n",
    "        (loads(doc), score)\n",
    "        for doc, score in sorted(fused_scores.items(), key=lambda x: x[1], reverse=True)\n",
    "    ]\n",
    "\n",
    "    # Return the reranked results as a list of tuples, each containing the document and its fused score\n",
    "    return reranked_results"
   ]
  },
  {
   "cell_type": "code",
   "execution_count": 12,
   "metadata": {},
   "outputs": [
    {
     "name": "stderr",
     "output_type": "stream",
     "text": [
      "c:\\Users\\Ekaansh_Khosla\\anaconda3\\Lib\\site-packages\\langchain_core\\_api\\beta_decorator.py:87: LangChainBetaWarning: The function `loads` is in beta. It is actively being worked on, so the API may change.\n",
      "  warn_beta(\n"
     ]
    }
   ],
   "source": [
    "from operator import itemgetter\n",
    "answers = []\n",
    "for question in questions:\n",
    "    retrieval_chain_rag_fusion = generate_queries | retriever.map() | reciprocal_rank_fusion\n",
    "    docs = retrieval_chain_rag_fusion.invoke({\"question\": question})\n",
    "\n",
    "    from langchain_core.runnables import RunnablePassthrough\n",
    "\n",
    "    # RAG\n",
    "    template = \"\"\"Answer the following question in detail and based on this context:\n",
    "\n",
    "    {context}\n",
    "\n",
    "    Question: {question}\n",
    "    \"\"\"\n",
    "\n",
    "    prompt = ChatPromptTemplate.from_template(template)\n",
    "\n",
    "    final_rag_chain = (\n",
    "        {\"context\": retrieval_chain_rag_fusion, \n",
    "        \"question\": itemgetter(\"question\")} \n",
    "        | prompt\n",
    "        | ChatGroq(model_name=\"llama-3.1-70b-versatile\")\n",
    "        | StrOutputParser()\n",
    "    )\n",
    "\n",
    "    ans = final_rag_chain.invoke({\"question\":question})\n",
    "    answers.append(ans)"
   ]
  },
  {
   "cell_type": "code",
   "execution_count": 14,
   "metadata": {},
   "outputs": [
    {
     "data": {
      "text/plain": [
       "['The admission requirements for the M.Sc. Data Science program at FAU Erlangen-Nürnberg include:\\n\\n1. A completed B.Sc. degree in Mathematics, Industrial Mathematics, Mathematical Economy, Computer Science, Data Science, or Physics from FAU or another equivalent domestic or international degree.\\n2. A Grade Point Average (GPA) of 2.5 or better with respect to the German grading system. Candidates with an admissible degree and a GPA between 2.6 and 2.8 are invited for a short online interview in which their knowledge in calculus, linear algebra, algorithms, and data structures is evaluated.\\n3. English proficiency at level B2 CEFR (vantage or upper intermediate, not be older than 2 years) or six years of English classes at a German secondary school (Gymnasium). Applicants who have completed their university entrance qualifications or their first degree in English are not required to provide proof of proficiency in English.\\n\\nAdditionally, applicants need to register online using the page www.campo.fau.eu and submit their certified documents via postal service to the Student Records Office after receiving their admission letter.',\n",
       " \"To apply for the M.Sc. Data Science program at FAU Erlangen, you can follow these steps:\\n\\n1. Check the admission requirements: Make sure you meet the admission requirements for the M.Sc. Data Science program, which include a completed B.Sc. degree in a relevant field, a Grade Point Average (GPA) of 2.5 or better, and English proficiency at level B2 CEFR.\\n\\n2. Register online: Registration for the winter intake is possible between February 15th and May 31st, and for the summer intake between October 15th and November 30th. You can register online using the FAU's online application portal, campo.fau.eu.\\n\\n3. Create an IdM account: If you don't already have an IdM account, you need to register for one first. IdM stands for Identity Management of FAU.\\n\\n4. Submit your application: Once you have registered and created an IdM account, you can submit your application for the M.Sc. Data Science program.\\n\\n5. Wait for the admission decision: After submitting your application, you will receive an admission decision from the university. If you are admitted, you will receive an admission letter.\\n\\n6. Enroll for the next semester: After receiving your admission letter, you need to enroll for the next semester by sending your certified documents via postal service to the Student Records Office.\\n\\nFor further questions concerning the application process, you can contact the Master's Office at zuv-masterbuero@fau.de. For questions about the online application portal, you can email campo@fau.de.\",\n",
       " 'No, according to the provided information, FAU itself and its staff cannot help with finding suitable accommodation for studies in general. However, they do provide helpful links and recommendations on how to find accommodation.\\n\\nHere are some suggestions provided by FAU:\\n\\n1. Check the following website for helpful links: https://www.fau.eu/education/student-life/accommodation-2/\\n2. Share a flat with other students by taking one of the offers on the following websites:\\n   - https://www.wg-gesucht.de/wg-zimmer-in-Erlangen.34.0.1.0.html\\n   - https://www.immobilienscout24.de/Suche/de/bayern/erlangen/wg-zimmer\\n   - https://www.wg-suche.de/wg-zimmer/deutschland-bayern-erlangen\\n3. Join dedicated groups for accommodations in Erlangen on social networks, such as Facebook.\\n4. If you have trouble finding a suitable accommodation, you can send an email to accommodation@fau.de.\\n\\nIt is also worth noting that the region around Erlangen and Nuremberg is very popular for living, and costs for accommodation can be very high.',\n",
       " \"Financing your studies at FAU Erlangen-Nürnberg involves several options and considerations. Based on the provided documents, here are some key points to help you finance your studies:\\n\\n1. **Semester fee**: As a student at FAU, you will have to pay a semester fee/student services fee every semester. This fee is the same for all students, regardless of their country of origin.\\n\\n2. **Living costs**: FAU Erlangen-Nürnberg does not offer any funding to support international students with their living costs. However, you can search for scholarships at the DAAD website. International students usually receive scholarships from their home country or use their own funds to finance their studies.\\n\\n3. **Scholarships**: You can search for scholarships at the DAAD website. Additionally, the university provides information on finding accommodation, which can help reduce living costs.\\n\\n4. **Job opportunities**: If you're looking for a job and internship in Data Science in the area around Nürnberg and Erlangen, you can check the Stellenwerk homepage. You can also send an email to daniel.tenbrinck@fau.de to be added to a dedicated mailing list that occasionally posts job offers.\\n\\n5. **Costs of studying**: More information regarding costs of studying, such as living or food expenses, is provided on the FAU website.\\n\\nIn summary, financing your studies at FAU Erlangen-Nürnberg involves paying a semester fee, covering living costs through personal funds or scholarships, and exploring job opportunities in the area.\",\n",
       " \"If you receive an admission letter from FAU Erlangen-Nürnberg, the next steps would be to enroll for the next semester. Here's a step-by-step guide:\\n\\n1. **Enrollment**: You need to send your certified documents via postal service to the Student Records Office. Make sure to transfer the enrolment fee a few days in advance, especially if you're transferring from abroad. It's recommended to calculate with at least two weeks.\\n\\n2. **Creating a user account at FAU (IdM account)**: After enrolling, you'll be given access to online teaching resources and several other important platforms. Start by creating a user account at FAU (IdM account).\\n\\n3. **Getting familiar with online platforms**: Get familiar with the two online platforms 'StudOn' and 'Campo', which will help you plan and manage your courses.\\n\\n4. **Start your studies**: Once you've completed the above steps, you can start your studies at FAU Erlangen-Nürnberg.\\n\\nAdditionally, you can find further information on enrolment and first steps afterwards on the FAU website.\",\n",
       " 'The duration of the M.Sc. Data Science degree program at FAU Erlangen is 4 semesters.',\n",
       " \"The teaching language of the M.Sc. Data Science program at FAU Erlangen-Nürnberg is not explicitly stated in the page content of the provided documents. However, based on the provided information, the teaching language for the B.Sc. Data Science program is completely in German. \\n\\nHowever, considering the context of the master's program, it is likely that the teaching language for the M.Sc. Data Science is English.\",\n",
       " \"The M.Sc. Data Science degree program at FAU Erlangen is structured as follows:\\n\\n* The program is 4 semesters (2 years) long and requires 120 ECTS.\\n* There are three core modules of 15 ECTS that are mandatory for all students.\\n* Students must select one major field of study (30 ECTS) and one minor field of study (20 ECTS) from the following subject areas:\\n\\t+ Data-based optimization\\n\\t+ Mathematical theory / Fundamentals of data science\\n\\t+ Databases and knowledge representation\\n\\t+ Machine learning / Artificial intelligence\\n\\t+ Simulation and numerics\\n\\t+ Mathematical statistical data analysis\\n* Students must also complete technical qualification modules of 5 ECTS.\\n* A Master's seminar (5 ECTS) is required, which should lead to writing a Master's thesis (30 ECTS) in the field of Data Science.\\n* Students can choose from various application subjects (15 ECTS) in fields such as artificial intelligence in biomedical imaging, chemistry, digital humanities, geography, geosciences, international information systems, material science, medical data science, multimedia engineering, and physics.\\n\\nThe program is designed to provide students with a broad foundation in data science, as well as the opportunity to specialize in a particular area of interest. The program is taught mainly in English, and students have the opportunity to work with mentors to design their individual study plan.\",\n",
       " 'No, German is not required for the M.Sc. Data Science program at FAU Erlangen. However, German skills on a B1 level are highly recommended for everyday life and for internships and working student jobs.',\n",
       " 'The duration of the B.Sc. Data Science degree program at FAU Erlangen is 6 semesters.',\n",
       " 'The teaching language of B.Sc. Data Science at FAU Erlangen is completely in German.',\n",
       " \"The structure of the B.Sc. Data Science program at FAU Erlangen can be divided into the following consecutive levels:\\n\\n1. **Mathematics and Computer Science**: The program provides a solid foundational and advanced education in both mathematics and computer science, with a strong focus on the requirements of future Data Scientists.\\n2. **Application Subject**: Students take an application subject in which they can put their acquired knowledge to the test, such as physics, business informatics, biology, or medical technology.\\n3. **Data Science Modules**: The program includes modules specifically designed for Data Science, which cover topics such as data modeling, data analysis, machine learning, and artificial intelligence.\\n4. **Electives**: Students can choose from a range of elective modules to specialize in specific areas of Data Science.\\n5. **Bachelor's Thesis**: The program culminates in a bachelor's thesis, which allows students to apply their knowledge and skills to a real-world problem.\\n\\nThe program is designed to provide students with a comprehensive understanding of Data Science and its applications, as well as the skills and knowledge needed to succeed in this field.\",\n",
       " 'The admission requirements for B.Sc. Data Science at FAU Erlangen-Nürnberg are as follows:\\n\\n1. No Admissions Restrictions\\n2. Very good German language skills are generally required for enrollment in the B.Sc. Data Science program. More detailed information on the accepted language certificates for international students can be found at https://www.fau.de/education/international/aus-dem-ausland-an-die-fau/bewerbung-und-einschreibung-fuer-internationale-bewerberinnen-und-bewerber/deutschkenntnisse-und-sprachzertifikate/.']"
      ]
     },
     "execution_count": 14,
     "metadata": {},
     "output_type": "execute_result"
    }
   ],
   "source": [
    "answers"
   ]
  },
  {
   "cell_type": "code",
   "execution_count": null,
   "metadata": {},
   "outputs": [],
   "source": []
  },
  {
   "cell_type": "code",
   "execution_count": null,
   "metadata": {},
   "outputs": [],
   "source": []
  }
 ],
 "metadata": {
  "kernelspec": {
   "display_name": "base",
   "language": "python",
   "name": "python3"
  },
  "language_info": {
   "codemirror_mode": {
    "name": "ipython",
    "version": 3
   },
   "file_extension": ".py",
   "mimetype": "text/x-python",
   "name": "python",
   "nbconvert_exporter": "python",
   "pygments_lexer": "ipython3",
   "version": "3.11.7"
  }
 },
 "nbformat": 4,
 "nbformat_minor": 2
}
