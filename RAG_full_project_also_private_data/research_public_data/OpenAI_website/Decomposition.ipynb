{
 "cells": [
  {
   "cell_type": "code",
   "execution_count": 2,
   "metadata": {},
   "outputs": [],
   "source": [
    "import os\n",
    "import sys\n",
    "os.environ[\"LANGCHAIN_TRACING_V2\"] = \"true\"\n",
    "os.environ[\"LANGCHAIN_ENDPOINT\"] = \"https://api.smith.langchain.com\"\n",
    "keys_path = os.path.abspath('../../keys')\n",
    "sys.path.append(keys_path)\n",
    "from keys import LANGCHAIN_API_KEY, OPENAI_API_KEY\n",
    "os.environ[\"LANGCHAIN_API_KEY\"] = LANGCHAIN_API_KEY\n",
    "os.environ['OPENAI_API_KEY'] = OPENAI_API_KEY"
   ]
  },
  {
   "cell_type": "code",
   "execution_count": 4,
   "metadata": {},
   "outputs": [],
   "source": [
    "#### INDEXING ####\n",
    "\n",
    "# Load blog\n",
    "import bs4\n",
    "from langchain_community.document_loaders import WebBaseLoader\n",
    "\n",
    "urls = [\n",
    "    \"https://www.math-datascience.nat.fau.de/im-studium/masterstudiengaenge/master-data-science/\",\n",
    "    \"https://www.fau.eu/studiengang/data-science-bsc/\",\n",
    "    \"https://www.fau.eu/studiengang/data-science-msc/\",\n",
    "]\n",
    "\n",
    "docs = [WebBaseLoader(url).load() for url in urls]\n",
    "docs_list = [item for sublist in docs for item in sublist]\n",
    "\n",
    "# Split\n",
    "from langchain.text_splitter import RecursiveCharacterTextSplitter\n",
    "text_splitter = RecursiveCharacterTextSplitter.from_tiktoken_encoder(\n",
    "    chunk_size=1000, \n",
    "    chunk_overlap=200)\n",
    "\n",
    "doc_splits = text_splitter.split_documents(docs_list)\n",
    "\n",
    "# Index\n",
    "from langchain_openai import OpenAIEmbeddings\n",
    "from langchain_community.vectorstores import SKLearnVectorStore\n",
    "\n",
    "vectorstore = SKLearnVectorStore.from_documents(documents=doc_splits, \n",
    "                                    embedding=OpenAIEmbeddings())\n",
    "\n",
    "retriever = vectorstore.as_retriever()"
   ]
  },
  {
   "cell_type": "code",
   "execution_count": 5,
   "metadata": {},
   "outputs": [
    {
     "data": {
      "text/plain": [
       "[Document(metadata={'source': 'https://www.math-datascience.nat.fau.de/im-studium/masterstudiengaenge/master-data-science/', 'title': 'Master Data Science - Lehreinheit Mathematik – Data Science', 'description': 'Please send only questions related to the field of Data Science or the structure of this study course to the student advisory. Questions on the application…', 'language': 'de-DE'}, page_content='\\n\\n\\n\\n\\nMaster Data Science - Lehreinheit Mathematik – Data Science\\n\\n\\n\\n\\n\\n\\n\\n\\n\\n\\n\\n\\n\\n\\n\\n\\n\\n\\n\\n\\n\\n\\n\\n\\n\\n\\n\\n\\n\\n\\n\\n\\n\\n\\n\\n\\n\\n\\n\\n\\n \\n\\n\\n\\nNavigation überspringen\\nZur Navigation\\nZum Seitenende\\n\\n\\n\\n\\n\\n\\n\\nOrganisationsmenü öffnen\\n\\n \\n\\n\\nOrganisationsmenü schließen\\n\\n\\n\\n\\n\\nFriedrich-Alexander-Universität LE Mathematik - Data Science \\n\\n\\n\\nFAUZur zentralen FAU Website\\n\\nFriedrich-Alexander-UniversitätNaturwissenschaftliche Fakultät\\n\\n\\n\\nGeben Sie hier den Suchbegriff ein, um in diesem Webauftritt zu suchen:\\n\\n\\n Suche öffnen\\n\\n\\n\\n\\n\\n\\nEnglish\\n\\n\\nCampo\\nStudOn\\nStellenangebote\\nLageplan\\nHilfe im Notfall\\n\\n\\n\\n\\nFriedrich-Alexander-UniversitätNaturwissenschaftliche Fakultät \\n\\n\\n\\nFriedrich-Alexander-Universität LE Mathematik - Data Science\\n\\n\\nMenu\\nMenu schließen\\n\\nBeratungBeratungsangeboteSSC Mathematik – Data ScienceStudienfachberatungSprechstunde IngenieurmathematikPortal BeratungVor dem StudiumInformationen für StudieninteressierteInformationen für LehrkräfteSchülerpraktikumPortal Vor dem StudiumIm StudiumErstsemesterLehramtsstudiengängeBachelorstudiengängeMasterstudiengängeMathematik im NebenfachPromotionsprogrammHilfskraft werdenAbschlussfeierInformationen für StudierendePortal Im StudiumInternationalWelcome page for international studentsAuslandsaufenthalte und AustauschprogrammePortal InternationalDepartmentsDepartment of Data ScienceDepartment MathematikPortal Departments \\n\\n\\n\\n\\n\\n\\n\\n\\n\\n\\n\\n\\n\\nLehreinheit Mathematik – Data Science \\n\\n\\n\\n\\n\\n\\n\\n\\n\\nBereichsnavigation: Im StudiumErstsemesterLehramtsstudiengängeBachelorstudiengängeMasterstudiengänge Master Data Science Master´s Thesis Portal Data Science Master Mathematik Master Wirtschaftsmathematik Master Computational and Applied Mathematics (CAM) Current calls for Master ThesisMathematik im NebenfachPromotionsprogrammHilfskraft werdenAbschlussfeierFördervereinInformationen für Studierende\\n\\n\\nMaster Data Science\\n\\n\\n\\n\\nPrüfungsordnungen\\nModulhandbücher\\nMentorinnen und Mentoren\\nPrüfungen\\nVorlesungsplanung\\n\\n\\n\\n\\nMaster Data Science\\n\\nStudent Advisory\\n studienberatung-datascience@math.fau.de\\nPlease send only questions related to the field of Data Science or the structure of this study course to the student advisory. Questions on the application and admission process have to be directed to the Master’s Office at zuv-masterbuero@fau.de\\n\\xa0\\nNews\\n\\nYou can now generate your study plan online at the new website of the Study Plan Generator (SPLAG).\\nWe have updated our frequently asked questions (FAQ) document, which can be downloaded here and at the bottom of this page.\\n\\nWhy apply for this program?\\nData Science has become a revolutionary technology that everyone seems to talk about. It is becoming a key concept for large private businesses, public institutions and research. While it is not easy to define it in a few words, data science deals with the methods and tools needed to analyze data and draw actionable conclusions from the results gained in the process. These methods and tools, which cover big data and their analysis, data modeling, machine learning, and simulation methods, are located mainly at the intersection of three subjects: computer sciences, mathematics, and statistics. Consequently, this new Master’s program at Friedrich-Alexander University is jointly taught by lecturers from these three fields.\\nThis program uses dynamic learning methodologies to ensure our students stand out in today’s competitive job market. Students will enjoy a wide variety of long-lasting benefits:\\n\\nHands-on teaching methodology.\\nA world-class institution.\\nIndividual, interest-based curriculum.\\n\\nCareer prospects\\nAs a data scientist you can work in national and international companies or in the public sector. Some exemplary sectors to find exciting job positions would be:\\n\\nTechnology Industry\\nThanks to the various developments in data science, this industry is gradually evolving from an art into a science. Modern cyber security mechanisms heavily rely on data science. Data scientists are bringing probabilistic and statistical methods into the IT industry. Data collected from different disciplines can be instrumental in helping with solutions to cyber security threats.\\nTravel Industry\\nTravel personalization has become an increasingly deeper process than it used to be. The possibility to create customer profiles based on segmentation, offering personalized experiences according to their needs and preferences, has its foundations in data science. Forecasting the behavior of travelers by knowing where they want to go next, what kind of prices are they ready to pay, and when to launch special promotions, hugely depends on the level of applying data scientists‘ skills and abilities.\\nEnergy Industry\\nThe energy industry experiences major fluctuations in prices and higher costs of projects. Obtaining high-quality information has not been so important! Data scientists help in cutting costs, reducing risks, optimizing investments and improving equipment maintenance.\\nPharmaceuticals\\nConnected to human health, the pharma industry has also emerged as an industry where data science is increasing its application. For example, a pharmaceutical company can utilize data science to ensure a more stable approach for planning clinical trials. Companies need to resort to data science in order to build precision into their calculations of the potential success or failure of the clinical trials.\\n\\nUndoubtedly, there are many more sectors that a data scientist can work. Data science careers are in high demand, particularly in Germany, and this trend will not be slowing down any time soon.\\nAfter the master’s degree, a scientific career is of course also possible. Definitely, you can then deepen your knowledge and develop various programming tools for scientific codes and data analysis.\\nAreas of specialization\\nAt the beginning of the master’s degree, one major field of study is selected from the following subject areas as part of an individual study agreement:\\n\\nData-based optimization\\nMathematical Theory / Fundamentals of Data Science (taught in German)\\nDatabases and Knowledge Representation (taught partly in German)\\nMachine learning / Artificial intelligence\\nSimulation and Numerics\\nMathematical Statistical Data Analysis (taught mainly in German)\\n\\nThe other subject areas together form the minor field of study. The courses are mainly taught in English. Every student chooses a mentor at the beginning of the study course. The mentor gives the student advice how to design the study plan in accordance with the student’s individual interests.\\nStructure of the degree programs\\nThe standard time to degree is four semesters (two years). Students must acquire 120 ECTS. The program is structured as follows:\\n\\nDetailed information regarding modules and study plan can be found under „Important document and further info“ paragraph in the „Module Handbook“ section.\\nPlease note that some of the core modules in the Master Data Science are only taught once per year, i.e., not every semester. This applies to both modules „Mathematics of Learning“ as well as „Selected Topics in Mathematics of Learning“, which are only taught annually in the winter semester.\\nApplication subjects\\nOut of the following application subjects, you should take modules with a total of 15 ECTS. You are free to choose modules mixed from all applications subjects in either English or German, depending on your language skills.\\n\\nArtificial Intelligence in Biomedical Imaging\\nChemistry (taught in German)\\nDigital Humanities (taught mainly in German)\\nGeography\\nGeosciences\\nInternational Information Systems\\nMaterial Science\\nMedical Data Science\\nMultimedia Engineering\\nPhysics (taught mainly in German)\\n\\nStudy course plans\\nIn the following we present three exemplary study course plans as an orientation help assuming you are studying Data Science as a full-time study (~30 ECTS per semester) and the first semester starts in the winter semester.\\n\\n\\n\\n\\nExample I (Major field: ML/AI)\\n\\nExample II (Major field: SN)\\n\\n\\n\\n1st semester\\n(winter semester)\\nApplication subject:\\xa0Wearable and Implantable Computing (5 ECTS)\\nApplication subject: Process Analytics (5 ECTS)\\nMajor field: Artificial Intelligence I (7,5 ECTS)\\nMajor field: Pattern Recognition (5 ECTS)\\nMinor field: Convex Geometry and Applications (5 ECTS)\\nCore module: Mathematics of Learning (5 ECTS)\\n(total: 32,5 ECTS)\\n\\nApplication subject: Business Intelligence (5 ECTS)\\nMajor field: Simulation and Modeling 1 (5 ECTS)\\n\\nMinor field: Middleware – Cloud Computing\\xa0 (7,5 ECTS)\\n\\nMinor field: Artificial Intelligence I\\xa0 (7,5 ECTS)\\nCore module: Mathematics of Learning (5 ECTS)\\n(total: 30 ECTS)\\n\\n\\n\\n2nd semester\\n(summer semester)\\nApplication subject: DH-Module 1: Language and text (5 ECTS)\\nMajor field: Artificial Intelligence II (7,5 ECTS)\\nMinor field: Partial Differential Equations Based Image Processing (5 ECTS)\\nMinor field: Distributed Databases and Transaction Systems (5 ECTS)\\nCore module: Deep Learning (5 ECTS)\\n(total: 27,5 ECTS)\\nApplication subject: Computational modelling of cancer network (5 ECTS)\\nMajor field: Simulation and Modeling 2 (5 ECTS)\\nMajor field:\\xa0Partial Differential Equations Based Image Processing (5 ECTS)\\nMajor field: PDEs in Data Science (5 ECTS)\\n\\nCore module: Deep Learning (5 ECTS)\\nTechnical qualification:\\xa0Approximate Computing (5 ECTS)\\n(total: 30 ECTS)\\n\\n\\n\\n3rd semester\\n(winter semester)\\nMajor field: Research Project AI (10 ECTS)\\nMinor field: Inverse Problems and their Regularization (5 ECTS)\\n\\nTechnical qualification: Nailing your Thesis (5 ECTS)\\n\\nCore module: Selected Topics in Mathematics of Learning (5 ECTS)\\nMaster’s seminar (5 ECTS)\\n(total: 30 ECTS) \\nApplication subject: Quantum Computing (5 ECTS)\\nMajor field: Numerics of Partial Differential Equations (10 ECTS)\\nMinor field: Discrete Optimization I (5 ECTS)\\nCore module: Selected Topics in Mathematics of Learning (5 ECTS)\\nMaster’s seminar (5 ECTS)\\n(total: 30 ECTS)\\n\\n\\n4th semester\\n(summer semester)\\nMaster’s thesis (30 ECTS)\\n(total: 30 ECTS)\\nMaster’s thesis (30 ECTS)\\n(total: 30 ECTS)\\n\\n\\n\\n\\n\\n\\n\\nExample III (Major field: DO)\\n\\n\\n\\n1st semester\\n(winter semester)\\nApplication subject: Process Analytics (5 ECTS)\\nApplication subject: Digital Health (5 ECTS)\\nMajor field: Discrete Optimization I (5 ECTS)\\nMajor field: Convex Geometry and Applications or Algorithmic Game Theory or Optimization in Industry and Economy (5 ECTS)\\nMinor field: Pattern Recognition (5 ECTS) or Numerics of Partial Differential Equations (10 ECTS)\\nCore module: Mathematics of Learning (5 ECTS)\\n(total: 30 or 35 ECTS)\\n\\n\\n2nd semester\\n(summer semester)\\nApplication subject: DH-Module 2: Society and space (5 ECTS)\\nMajor field: Discrete Optimization II (10 ECTS) or Robust Optimization II (5 ECTS)\\nMinor field: Practical Course: Modelling, Simulation and Optimization (5 ECTS) or Software Applications with KI (10 ECTS)\\nCore module: Deep Learning (5 ECTS)\\n(total: 25 or 30 ECTS)\\n\\n\\n3rd semester\\n(winter semester)\\nMajor field: Advanced Nonlinear Optimization (10 ECTS) or Mathematical Foundations of Data Analytics, Neural Networks, and Artificial Intelligence (5 ECTS)\\nMinor field: Machine Learning for Time Series (5 ECTS)\\nTechnical qualification: Approximate Computing (5 ECTS)\\nCore module: Selected Topics in Mathematics of Learning (5 ECTS)\\nMaster’s seminar (5 ECTS)\\n(total: 25 or 30 ECTS)\\n\\n\\n4th semester\\n(summer semester)\\nMaster’s thesis (30 ECTS)\\n(total: 30 ECTS)\\n\\n\\n\\nPart-time study\\nSince the winter semester 2022/23 it is possible to study the M.Sc. Data Science in part-time. The standard period of study is extended from 4 to 8 semesters compared to a regular full-time study. The study programme structure and in particular all modules are the same in both study types.\\nIf you are planning to study Data Science in part-time and you are an international student, please inform yourself if your visa does extend accordingly. Also note that by changing your study course to part-time your amount of already studied semesters will double, e.g., 2 semesters in full-time equal 4 semesters in part time.\\nIf you are planning to study Data Science in part-time and work simultaneously, please note that you are not allowed to work more than 20 hours/week to keep your state as student.\\nIf you are already enroled for the full-time M.Sc. Data Science programme you can download an application form for changing your degree programme from the website of the Students Records Office. Please indicate clearly that you would like to change from a full-time study in M.Sc. Data Science to a part-time study.\\nPlease note that deadlines concerning a late submission of documents, e.g., your Bachelor’s degree certificate, are not extended by changing into a part-time study.\\nSome additional information on the M.Sc. Data Science study programme in part-time can be found here.\\nRequirements\\nAdmission requirements:\\n\\nA completed B.Sc. degree in Mathematics, Industrial Mathematics, Mathematical Economy, Computer Science, Data Science, or Physics from FAU or another equivalent domestic or international degree that is not significantly different with regard to the competence profile taught in the respective degree. Please note that your competence profile cannot be evaluated in advance, but only by the admission committee after completing the application process (described below).\\nA Grade Point Average (GPA) of 2.5 or better with respect to the German grading system. Candidates with an admissible degree (described above) and a GPA between 2.6 and 2.8 are invited for a short online interview in which their knowledge in calculus, linear algebra, algorithms and data structures is evaluated. An online tool for converting grades to the German grading system using the Bavarian formula can be found here.\\nEnglish proficiency at level B2 CEFR (vantage or upper intermediate, not be older than 2 years) or six years of English classes at a German secondary school (Gymnasium). Applicants who have completed their university entrance qualifications or their first degree in English are not required to provide proof of proficiency in English. A list of accepted language proficiency certificates can be found here.\\n\\nApplication:\\nThe application for M.Sc. Data Science is\\xa0performed online:\\n\\nRegistration for the winter intake is possible between 15th February and 31st May and for the summer intake between 15th October and 30th November. You can find the exact dates for the current intake periods on https://www.fau.eu/education/application-and-enrolment/applying-for-masters-degree-programmes/#bewerbungszeitraum\\nRegister online using the page www.campo.fau.eu\\nNote: Applicants who have not yet an „ IdM Account “ have to register at IdM first (on www.campo.fau.eu ). IdM stands for Identity Management of FAU. Then, using your IdM account, you can set up your online application.\\nFor further questions concerning the process of application please contact our Master’s Office: zuv-masterbuero@fau.de\\nFor further questions on the online application portal please send an email to: campo@fau.de\\n\\nFurthermore read: Guide to the application process.\\nServices\\nAccommodation:\\nFAU Erlangen-Nürnberg is not able to offer accommodation. The University does not operate any student accommodation and is not allowed to act as an estate agent. However, information on finding accommodation is provided here.\\nFinancing your studies and costs:\\nThere is only one semester fee / student services fee for each student, no matter which country of origin, that has to be paid every semester. Further information regarding costs of studying such as living or food is provided here.\\nFAU Erlangen-Nürnberg does not have any funding available to support international students with their living costs. For this reason, international students usually receive scholarships from their home country or use their own funds to finance their studies. You might search for scholarships at the DAAD website here.\\nEnrolment\\nAfter you receive your admission letter you have to enrol for the next semester by sending your certified documents via postal service to the Student Records Office. The enrolment fee should be transferred several days before, especially if transferred from abroad. In this case we recommend to calculate with at least two weeks.\\nYou can find further information on enrolment and first steps afterwards here.\\nAfter enrolment you are given access to online teaching resources and several other important platforms. Start by creating a user account at FAU (IdM account) and get familiar with the two online platforms „StudOn“ and „Campo„, which will help you to plan and manage your courses.\\nImportant documents and further info\\n\\nFrequently Asked Questions (FAQ) v0.3\\nA PDF document with answers to frequently asked questions about the M.Sc. Data Science study course programme can be downloaded here.\\nExamination Regulations. \\nThe study and examination regulations for the bachelor and master degree in Data Science can be downloaded here .\\nStudy plan agreement.\\nYou can generate your study plan on the website of the Study Plan Generator (SPLAG). Make sure JavaScript is enabled in your browser.\\nInformation for international students. \\nYou will find further information for international applicants under this link .\\nStudying at FAU also means getting to know everyday life in Germany as well as German and Franconian culture. An interesting video of international students talking about their experiences in Germany can be found here .\\nInformation about the orientation courses for international students offered by various faculties and offices at FAU is provided here .\\nStudy at FAU. \\nFriedrich-Alexander-Universität Erlangen-Nürnberg (FAU) is one of the largest research universities in Germany. Under this page you can find information regarding studies at FAU and joining our family.\\nLabor market for FAU graduates.\\nSee the QS Graduate Employability Ranking 2019.\\nIf you want to find a job and internship in Data Science in the area around Nürnberg and Erlangen have a look at the Stellenwerk homepage. For additional offers please send an email to daniel.tenbrinck@fau.de and you will be added to a dedicated mailing list in which occasional job offers are posted.\\n\\n\\n\\n\\n\\n\\n\\n\\n\\n\\n\\n\\n \\n\\n\\n\\nLehreinheitMathematik - Data Science\\nCauerstraße 11\\n91058 Erlangen\\n\\n\\n\\n\\n\\nInterner Bereich\\nImprint\\nPrivacy\\nAccessibility\\n \\nFacebookRSS FeedTwitterXing \\n\\n\\nNach oben\\n\\n\\n\\n\\n\\n\\n\\n\\n\\n\\n\\n\\n\\n\\n\\n'),\n",
       " Document(metadata={'source': 'https://www.fau.eu/studiengang/data-science-bsc/', 'title': 'Data Science | FAU Erlangen-Nürnberg', 'description': 'Are you interested in how data is analyzed? Here, the B.Sc.Data Science degree program comes in at the interface between mathematics and computer science.', 'language': 'en-GB'}, page_content='\\n\\n\\n\\n\\nData Science | FAU Erlangen-Nürnberg\\n\\n\\n\\n\\n\\n\\n\\n\\n\\n\\n\\n\\n\\n\\n\\n\\n\\n\\n\\n\\n\\n\\n\\n\\n\\n\\n\\n\\n\\n\\n\\n\\n\\n\\n\\n\\n\\n\\n\\n\\n\\n\\n\\n\\n\\n\\n\\n\\n\\n\\n \\n\\n\\n\\nSkip navigation\\nSkip to navigation\\nSkip to the bottom\\n\\n\\n\\n\\n\\n\\n\\nSimulate organization breadcrumb open\\n\\n\\n\\n\\nSimulate organization breadcrumb close\\n\\n\\n\\n\\n\\nFriedrich-Alexander-Universität Erlangen-Nürnberg  \\n\\n\\n\\n\\n\\n\\n\\nPlease enter the search term for searching into the documents of this website:\\n\\n\\n Suche öffnen\\n\\n\\n\\n\\nDeutschStudOnCampoUnivISCareerUniklinikumUniversity Library\\n\\n\\n\\n\\n\\n\\n\\nFriedrich-Alexander-Universität Erlangen-Nürnberg \\n\\n\\nNavigation\\nNavigation close\\n\\nFAUNewsEnergy-saving measures at FAUWelcome to FAUStrategy and objectivesHistory and remembranceCampus locations at FAUSite development at FAUOrganisation and committeesLegal regulationsFinding your way around: contacts and directionsFaculties and organisational unitsFacultiesUniversitätsklinikum ErlangenCentral research institutionsCollaboration and partnershipsFAUPeopleStudentsEmployeesResearchersAlumniWorking at FAUJobs at FAUProfessorshipsEnergy technology and technical building servicesVocational training at FAUTraining and career development at FAUGender/Diversity/FamilyNew at FAU/Onboarding/IncomingOffboarding/OutgoingPeopleEducationStudent orientationDegree programmesApplication and enrollmentApplication and enrolment for internationalsAdvice and servicesStudy organisationTips for getting started at FAUSemester datesRe-registration and semester contributionDegree programme and examination regulations (Link to our German website)InternationalInformation for international applicantsGoing abroadStudent lifeTeaching at FAUInformation for parentsEducationResearchResearch profileResponsible researchCollaborative researchEU collaborative projectsDFG projectsFederal projectsCollaborative research in BavariaOutstanding individual researchGottfried Wilhelm Leibniz PrizeAlexander von Humboldt ProfessorshipERC grantsHeinz Maier-Leibnitz PrizeResearch projects and partnershipsMax Planck InstitutesFraunhofer InstitutesHelmholtz Institute Erlangen-NürnbergEnergie Campus NürnbergNuremberg Campus of TechnologyMedical ValleyWelcome Center for International ResearchersEarly Career SupportDoctoral degrees at FAUService for Young AcademicsServices for researchersAdvice for third-party funded projectsPublications and research dataResearch information systemScience communicationFAUconnectResearchOutreachEventsInventions and patentsIntellectual property (IP) policy of FAUService for inventorsInnovation and start-upsPartnerships and collaborationsInnovation platforms and networksConsulting services for start-upsProfessional developmentDonationsFAU Innovation FundDeutschlandstipendium (Germany Scholarship)FAU for companies and organisationsScience for citizensFAU ShopPress OfficeOutreach \\n\\n\\n\\n\\n\\n\\n\\n\\n\\n\\nData Science\\n\\n August 7, 2023\\n\\n\\n\\n\\n\\t\\t                Data Science                (B.Sc.)\\n\\t\\t            \\n\\n\\n\\n\\n\\nThe bachelor’s degree program Data Science is an interdisciplinary study program that deals with the modeling, processing and analysis of data. Modern methods from mathematics, computer science, and statistics are used to extract relevant information from large amounts of data.\\n\\n\\n\\n\\n\\n\\n\\n\\nDegree\\n\\n\\t\\t        Bachelor of Science (B.Sc.)    \\n\\n\\n\\n\\n\\nDuration of studies in semester\\n\\n\\t\\t        6    \\n\\n\\n\\n\\n\\nStart of degree program\\n\\n\\t\\t        Winter semester    \\n\\n\\n\\n\\n\\nStudy location\\n\\n\\t\\t        Erlangen    \\n\\n\\n\\n\\n\\nNumber of students\\n\\n\\t\\t        50-150    \\n\\n\\n\\n\\n\\nSubject group\\n\\n\\t\\t        Mathematics, Natural sciences    \\n\\n\\n\\n\\n\\nSpecial ways to study\\n\\n\\t\\t        1-subject Bachelor    \\n\\n\\n\\n\\n\\nTeaching language\\n\\n\\t\\t        completely in German    \\n\\n\\n\\n\\n\\nAdmission Requirements\\n\\n\\t\\t        No Admissions Restrictions    \\n\\n\\n\\n\\n\\n\\t\\t    Apply now\\n\\n\\t\\t    Tips for application\\n\\n\\t\\t    Tips for internationals\\n\\n\\n\\nWhat is the degree program about?\\nWe live in the age of digitization with all its benefits but also its own problems. We defend our opinions on social media with heart and soul, rate the vacation photos of our fellow human beings, and consume digital content via the streaming service we trust. In the process, we leave a distinct digital footprint in the form of data. It is estimated that the entire human race currently generates a data volume of several zettabytes (that’s a one with 21 zeros!) per year. Not every bit and every click is relevant, but technological miracles can be performed based on the amount of our personal data collected, but they also raise questions:\\n\\nHow does Google know what I’m about to search for?\\nWhy do I always end up with more items in my Amazon shopping cart than I originally wanted to buy?\\nHow can Spotify gauge my musical tastes so well?\\nWhy does fake news often spread faster than the truth?\\nHow can Deep Learning teach a computer to beat the world champion in Go?\\nA few years ago, „Big Data“ was on everyone’s lips. The value of data was weighed up against that of gold, and the initial hype triggered a veritable gold-digging frenzy in the technology industry.\\n\\nNowadays, it is no longer about collecting as much data as possible, but rather about analyzing this data in a clever way and drawing the right conclusions from it. Big Data“ quickly became the term „Smart Data“. And this is precisely where the newly founded „Data Science“ degree program at FAU comes in:\\nIt represents a key discipline for the digital age at the interface between mathematics and computer science and other disciplines such as natural sciences, engineering, economics, and information sciences. The goal of this bachelor’s degree program is to provide a solid foundational and advanced education in both mathematics and computer science with a strong focus on the requirements of future Data Scientists. In addition, an application subject is taken in which one can put one’s acquired knowledge to the test, such as physics, business informatics, biology or medical technology.\\nDuring your studies you will learn:\\n\\nhow to categorize and abstract structured and unstructured data sources.\\nwhich mathematical methods can be used to model and analyze data.\\nhow predictions for the future can be calculated from data.\\nwhat the consequences are for decision making.\\nhow to store and manage large amounts of data efficiently.\\nhow data can be used for artificial intelligence training.\\n\\nThe standard period of study for the bachelor’s degree program is six semesters, with one semester in the second or third year of study specifically set aside for the possibility of a semester abroad, such as an ERASMUS semester at another European university.\\n\\n\\n\\nDisplay external contentAt this point content of an external provider (source: YouTube) is integrated. When displaying, data may be transferred to third parties or cookies may be stored, therefore your consent is required.You can find more information and the possibility to revoke your consent in our privacy policy.I agree \\n\\n\\n\\n\\n\\n\\n\\n\\n\\n\\n\\n\\n\\n\\n\\n\\n\\n\\n\\n\\n\\n\\n\\n\\n\\n\\n \\n\\n\\n\\n\\n\\n\\n\\n\\n\\n\\n\\n\\n\\n\\n\\n\\n\\n\\n\\n\\n\\n\\n\\n\\n\\n\\n\\n\\n \\n\\n\\n\\n\\n\\n\\n\\n\\t\\t            Design and structure        \\n\\n\\n\\n\\n\\n\\n\\nThe bachelor’s degree program „Data Science“ can be divided into the following consecutive levels:\\n\\n1st-2nd semester: FundamentalsIn the first year you will learn the basics of analysis, linear algebra, algorithms and data structures, modeling, and programming.\\n3rd-4th semester: AdvancedIn the second year you build on the basics you have learned and get to know many important mathematical tools from the areas of numerics, optimization, and stochastics. At the same time you deal with logic, information visualization, and knowledge extraction from databases.\\n5th-6th semester: Consolidation and applicationIn the third year of study, you will listen to freely selectable in-depth lectures within mathematics and computer science, which specifically fit the course of study „Data Science“. Possible areas of specialization are Statistical Data Analysis, Data-Oriented Optimization, Mathematical Theory of Data Science, Knowledge Representation, Artificial Intelligence, as well as Simulation and Numerics. Here you can adapt your focus to your own interests, i.e. focus more on theory or practice. At the same time, you will apply the knowledge you have acquired in the first two years in lectures of your application subject.\\n6th semester: Bachelor thesisIn the sixth semester you will write your bachelor thesis in your chosen field of specialization.\\n\\nIn parallel to the above-mentioned study phases, you will continuously attend lectures from the core area of „Data Science“, such as mathematical data analysis and modeling, machine learning, or advanced design and programming. \\n\\n\\n\\n\\n\\n\\t\\t            Fields of study and specializations        \\n\\n\\n\\n\\n\\n\\nDuring the bachelor’s degree program, you will learn about important areas of mathematics and computer science, as well as core topics in the field of data science. You will train your analytical thinking skills and learn to abstract and structure complex relationships. For your later career, you will acquire the ability to cope with constantly changing problems.\\nThe training in Data Science takes place in equal parts in the areas of mathematics and computer science, whereby you can determine your own focus during the course of your studies. In addition, you choose an application subject in which you can deepen your acquired knowledge in a practical way. \\n\\n\\n\\n\\n\\n\\t\\t            Which qualities and skills do I need?        \\n\\n\\n\\n\\n\\n\\nIf you still have doubts about choosing the „Data Science“ degree program, read through the following statements and consider whether they apply to you.\\n\\nAs a digital native, the topic of „digitalization“ is close to your heart and you are interested in current, data-driven technology.\\nYou have a broad range of interests and feel motivated by many different challenges.\\nMathematics does not scare you, but gives you pleasure. You like to work precisely, formalize ideas, and produce resilient results.\\nThe ability to understand complex relationships and to abstract to the essentials is one of your core competencies, along with an unquenchable thirst for knowledge.\\nYou have a strong interest in understanding how human behavior can be captured and even predicted in mathematical models.\\nYou always wanted to learn programming.\\nYou are interested in how the underlying mathematical and computer science processes work.\\n\\nIf these points fit you, you will definitely make the right choice with the degree program „Data Science“. \\n\\n\\n\\n\\n\\n\\t\\t            Why should I study at FAU?        \\n\\n\\n\\n\\n\\n\\nFAU Erlangen-Nuremberg offers unique conditions for the degree program „Data Science“. Due to the strong content-related networking of the departments of mathematics and computer science and the spatial distance of just two minutes on foot, there is a wide range of informatics and mathematics topics available, both of which are taught centrally in the degree program. Due to the great variety of subjects at FAU, you can choose your application subject from many different subject areas. This helps you to find your own individual specialization in your studies, which you are particularly interested in and enjoy.In addition, the industrial environment of the Nuremberg metropolitan region creates ideal conditions for sustainable and application-oriented studies. And perhaps you will already get to know your future employer during your studies, such as Siemens, Schaeffler or adidas.Alternatively, you can directly continue in the master’s degree program in Data Science or other master’s degree programs related to mathematics and computer science at FAU Erlangen-Nuremberg. \\n\\n\\n\\n\\n\\n\\t\\t            Which career prospects are open to me?        \\n\\n\\n\\n\\n\\n\\nWith a bachelor’s degree as a data scientist, many exciting fields of work open up to you in which you can profitably apply your knowledge. You work directly at the interface between man and machine. Here are some examples of industries with potential employers:\\n\\nTechnology industry (e.g. Google, Facebook, Microsoft, IBM, SAP, Siemens, etc.)\\nConsulting industry (e.g. McKinsey, Ernst & Young, Deloitte, etc.)\\nBiomedical research companies (e.g. AstraZeneca, Roche, Novartis, Bayer, etc.)\\nLogistics industry (Deutsche Post, UPS, DB Mobility Logistics, etc.)\\nEnergy industry (E.ON, RWE, EDF, etc.)\\nFinance and insurance industry (Deutsche Bank, Allianz, Munich Re, etc.)\\n\\nDue to the high demand for graduates in the field of „Data Science“ – there is an estimated shortage of over 100,000 experts for Data Science in Germany alone – career starters can expect a relatively high starting salary.\\nOf course, a bachelor’s degree doesn’t have to be the end of learning. You can earn a Master of Science (M.Sc.) degree in „Data Science“ at various European universities or simply take the appropriate Master’s program at FAU Erlangen-Nuremberg.\\nAfterwards, you can further deepen your understanding of data modeling and analysis in the context of a doctorate and thus even advance the current state of research, which will decisively shape the handling of the resource „data“ for the coming decades. \\n\\n\\n\\n\\n\\n\\t\\t            Special features        \\n\\n\\n\\n\\n\\n\\n\\nBefore the start of the first semester, there is a voluntary preliminary course to help you get started in your studies.\\nAfter the second semester, you will take a foundation exam that documents your understanding of calculus, linear algebra, or the minor. This is reliable feedback on whether mathematics is the right choice for you.\\n\\nOrientation Week\\nDuring the week of October 9-13, 2023, the Departments of Mathematics, Data Science, and Physics, in conjunction with FSI, will offer an orientation week for all first-year students in the following programs:\\n– Bachelor Mathematics\\n– Bachelor of Economics and Mathematics\\n– Bachelor Industrial Mathematics\\n– Teaching degree (grammar school) Mathematics\\n– Bachelor Data Science\\n– Bachelor Physics\\n– Teaching degree (grammar school) Physics\\nThe course is optional, but participation is strongly recommended.\\nMore detailed information can be found at the following website: https://mp.fsi.fau.de/index.php/ersti-infos/orientierungswoche \\n\\n\\n\\n\\n\\n\\t\\t            Admission requirements, application, and enrollment        \\n\\n\\n\\n\\n\\n\\n\\n\\n\\n\\n\\n\\nAdmission requirements (first semester)\\n\\nNo Admissions Restrictions \\n\\n\\n\\n\\n\\n\\n\\nApplication deadline winter semester\\n\\n30.09.\\n\\n\\n\\n\\n\\n\\n\\n\\n\\t\\t                Language skills            \\n\\n\\nGeneral language skills\\n\\nFor enrollment in the B.Sc. Data Science program, very good German language skills are generally required. More detailed information on the accepted language certificates for international students can be found at https://www.fau.de/education/international/aus-dem-ausland-an-die-fau/bewerbung-und-einschreibung-fuer-internationale-bewerberinnen-und-bewerber/deutschkenntnisse-und-sprachzertifikate/.\\n\\n\\n\\n\\n\\n\\n\\n\\n\\nDetails and notes\\n\\nThe application deadline for the winter semester for international applicants is July 15th.\\nApplications have to be submitted via the campus management portal campo.fau.de\\nIn addition to the general qualification for university entrance (Abitur), there are other access options for studying at FAU.\\n\\n\\n\\n \\n\\n\\n\\n\\n\\n\\t\\t        Do you need help or more information?    \\n\\n\\t\\t        Our Student Advice and Career Service (IBZ) is the central point of contact for all questions about studying and starting a degree programme. Our Student Service Centres and subject advisors support you in planning your studies.    \\n\\n\\n\\t\\t    Student Advice Center\\n\\n\\n\\n\\n\\nOrganizational\\n\\n\\n\\n\\t\\t                    Start of the semester                \\n\\n\\n\\n\\t\\t                    Semester dates                \\n\\n\\n\\n\\t\\t                    Semester fees                \\n\\n\\n\\n\\t\\t                    Advice and services                \\n\\n\\n\\n\\t\\t                    Going abroad                \\n\\n\\n\\n\\nDownloads\\n\\n\\n\\n\\t\\t                    Info brochure degree program                \\n\\n\\n\\n\\t\\t                    Module handbook                \\n\\n\\n\\n\\t\\t                    Degree program and examination regulations                \\n\\n\\n\\n\\nAdditional Information\\n\\n\\n\\n\\t\\t                    Website of the degree program                \\n\\n\\n\\n\\t\\t                    Examination Office - Faculty of Sciences                \\n\\n\\n\\n\\t\\t                    Department/Institute website                \\n\\n\\n\\n\\t\\t                    Faculty of Sciences                \\n\\n\\n\\n\\t\\t                    Student Representatives at FAU                \\n\\n\\n\\n\\n\\n\\n\\n\\n\\n\\n\\n\\n\\n\\n\\n\\n \\n\\n\\n\\n\\n\\n \\n\\n\\n\\n\\n\\nContact\\nPress Office\\nIntranet\\nWhat to do in an emergency\\nReporting errors\\nImprint\\nPrivacy\\nAccessibility\\n \\nInstagramTikTokTwitterMastodonBlueskyYouTubeFacebookXingLinkedInFAU Community \\n\\n\\nUp\\n\\n\\n\\n\\n\\n\\n\\n\\n\\n\\n\\n\\n\\n\\n\\n\\n\\n\\n\\n\\n\\n\\n\\n\\n\\n\\n\\n\\n'),\n",
       " Document(metadata={'source': 'https://www.fau.eu/studiengang/data-science-msc/', 'title': 'Data Science | FAU Erlangen-Nürnberg', 'description': 'Are you interested in data and technology and want to pursue a career in the industry? Then the master’s degree program in Data Science is an excellent choice.', 'language': 'en-GB'}, page_content='\\n\\n\\n\\n\\nData Science | FAU Erlangen-Nürnberg\\n\\n\\n\\n\\n\\n\\n\\n\\n\\n\\n\\n\\n\\n\\n\\n\\n\\n\\n\\n\\n\\n\\n\\n\\n\\n\\n\\n\\n\\n\\n\\n\\n\\n\\n\\n\\n\\n\\n\\n\\n\\n\\n\\n\\n\\n\\n\\n\\n\\n\\n \\n\\n\\n\\nSkip navigation\\nSkip to navigation\\nSkip to the bottom\\n\\n\\n\\n\\n\\n\\n\\nSimulate organization breadcrumb open\\n\\n\\n\\n\\nSimulate organization breadcrumb close\\n\\n\\n\\n\\n\\nFriedrich-Alexander-Universität Erlangen-Nürnberg  \\n\\n\\n\\n\\n\\n\\n\\nPlease enter the search term for searching into the documents of this website:\\n\\n\\n Suche öffnen\\n\\n\\n\\n\\nDeutschStudOnCampoUnivISCareerUniklinikumUniversity Library\\n\\n\\n\\n\\n\\n\\n\\nFriedrich-Alexander-Universität Erlangen-Nürnberg \\n\\n\\nNavigation\\nNavigation close\\n\\nFAUNewsEnergy-saving measures at FAUWelcome to FAUStrategy and objectivesHistory and remembranceCampus locations at FAUSite development at FAUOrganisation and committeesLegal regulationsFinding your way around: contacts and directionsFaculties and organisational unitsFacultiesUniversitätsklinikum ErlangenCentral research institutionsCollaboration and partnershipsFAUPeopleStudentsEmployeesResearchersAlumniWorking at FAUJobs at FAUProfessorshipsEnergy technology and technical building servicesVocational training at FAUTraining and career development at FAUGender/Diversity/FamilyNew at FAU/Onboarding/IncomingOffboarding/OutgoingPeopleEducationStudent orientationDegree programmesApplication and enrollmentApplication and enrolment for internationalsAdvice and servicesStudy organisationTips for getting started at FAUSemester datesRe-registration and semester contributionDegree programme and examination regulations (Link to our German website)InternationalInformation for international applicantsGoing abroadStudent lifeTeaching at FAUInformation for parentsEducationResearchResearch profileResponsible researchCollaborative researchEU collaborative projectsDFG projectsFederal projectsCollaborative research in BavariaOutstanding individual researchGottfried Wilhelm Leibniz PrizeAlexander von Humboldt ProfessorshipERC grantsHeinz Maier-Leibnitz PrizeResearch projects and partnershipsMax Planck InstitutesFraunhofer InstitutesHelmholtz Institute Erlangen-NürnbergEnergie Campus NürnbergNuremberg Campus of TechnologyMedical ValleyWelcome Center for International ResearchersEarly Career SupportDoctoral degrees at FAUService for Young AcademicsServices for researchersAdvice for third-party funded projectsPublications and research dataResearch information systemScience communicationFAUconnectResearchOutreachEventsInventions and patentsIntellectual property (IP) policy of FAUService for inventorsInnovation and start-upsPartnerships and collaborationsInnovation platforms and networksConsulting services for start-upsProfessional developmentDonationsFAU Innovation FundDeutschlandstipendium (Germany Scholarship)FAU for companies and organisationsScience for citizensFAU ShopPress OfficeOutreach \\n\\n\\n\\n\\n\\n\\n\\n\\n\\n\\nData Science\\n\\n August 7, 2023\\n\\n\\n\\n\\n\\t\\t                Data Science                (M.Sc.)\\n\\t\\t            \\n\\n\\n\\n\\n\\nThe Master’s degree program in data science is a great way to become a true expert in the world of data analysis and processing. In this degree program, you will learn the latest technologies and methods to model and analyze large amounts of data and furthermore gain insights that are critical in many use cases.\\nIn your studies, you will gain a comprehensive understanding of data analytics, artificial intelligence, machine learning and statistics. You will learn how to create complex data models and apply them to different use cases.\\n\\n\\n\\n\\n\\n\\n\\n\\nDegree\\n\\n\\t\\t        Master of Science    \\n\\n\\n\\n\\n\\nDuration of studies in semester\\n\\n\\t\\t        4    \\n\\n\\n\\n\\n\\nStart of degree program\\n\\n\\t\\t        Summer semester, Winter semester    \\n\\n\\n\\n\\n\\nStudy location\\n\\n\\t\\t        Erlangen    \\n\\n\\n\\n\\n\\nNumber of students\\n\\n\\t\\t        250-600    \\n\\n\\n\\n\\n\\nSubject group\\n\\n\\t\\t        Mathematics, Natural sciences    \\n\\n\\n\\n\\n\\nSpecial ways to study\\n\\n\\t\\t        International degree program, Part-time degree program    \\n\\n\\n\\n\\n\\nTeaching language\\n\\n\\t\\t        completely in English    \\n\\n\\n\\n\\n\\nAdmission Requirements\\n\\n\\t\\t        Qualification assessment    \\n\\n\\n\\n\\n\\n\\t\\t    Apply now\\n\\n\\t\\t    Tips for application\\n\\n\\t\\t    Tips for internationals\\n\\n\\n\\nWhat is the degree program about?\\nData science has become a revolutionary technology that everyone seems to talk about. It is becoming a key concept for large private businesses, public institutions and research. While it is not easy to define it in a few words, data science deals with the methods and tools needed to analyze data and draw actionable conclusions from the results gained in the process. These methods and tools, which cover big data and their analysis, data modeling, machine learning, and simulation methods, are located mainly at the intersection of the subjects mathematics and computer science. Consequently, this new Master’s program at Friedrich-Alexander Universität is taught jointly by lecturers from these fields.\\nThis program uses dynamic learning methodologies to ensure our students stand out in today’s competitive job market. Students will enjoy a wide variety of long-lasting benefits:\\n\\nHands-on teaching methodology.\\nA world-class institution.\\nIndividual, interest-based curriculum.\\n\\n\\n\\n\\nDisplay external contentAt this point content of an external provider (source: YouTube) is integrated. When displaying, data may be transferred to third parties or cookies may be stored, therefore your consent is required.You can find more information and the possibility to revoke your consent in our privacy policy.I agree \\n\\n\\n\\n\\n\\n\\n\\n\\t\\t            Design and structure        \\n\\n\\n\\n\\n\\n\\n\\nThe M.Sc. Data Science degree programme offers the following specialization areas:\\n\\nData-based optimization\\nMathematical theory / Fundamentals of data science\\nDatabases and knowledge representation\\nMachine learning / Artificial intelligence\\nSimulation and numerics\\nMathematical statistical data analysis\\n\\nA student has to select one specialization area as major field of study in which modules of in total 30 ECTS have to be completed.All other specialization areas form the minor field of study in which modules of in total 20 ECTS have to be completed.\\nAdditionally, there are three core modules of in total 15 ECTS that are mandatory for all students of this degree programme.This is complemented by technical qualification modules of in total 5 ECTS.\\nEvery student has to complete modules of in total 15 ECTS from the following application subjects:\\n\\nArtificial intelligence in biomedical imaging\\nChemistry\\nDigital humanities\\nGeography\\nGeosciences\\nInternational information systems\\nMaterial Science\\nMedical data science\\nMultimedia Engineering\\nPhysics\\n\\nThe degree programme is finalized by a Master’s seminar (5 ECTS) that should lead to writing a Master’s thesis (30 ECTS) in the field of Data Science. \\n\\n\\n\\n\\n\\n\\t\\t            Fields of study and specializations        \\n\\n\\n\\n\\n\\n\\nAt the beginning of the Master’s degree program, one major field of study is selected from the following subject areas as part of an individual study agreement:\\n\\nData-based optimization\\nMathematical theory / Fundamentals of data science\\nDatabases and knowledge representation\\nMachine learning / Artificial intelligence\\nSimulation and numerics\\nMathematical statistical data analysis\\n\\nThe other subject areas together form the minor field of study. The courses are mainly taught in English. Every student chooses a mentor at the beginning of the course of study. The mentor gives the student advice how to design the study plan in accordance with the student’s individual interests. \\n\\n\\n\\n\\n\\n\\t\\t            Which qualities and skills do I need?        \\n\\n\\n\\n\\n\\n\\nIf you still have doubts about choosing the “Data Science” degree program, read through the following statements and consider whether they apply to you.\\n\\nAs a digital native, the topic of “digitalization” is close to your heart and you are interested in current, data-driven technologyYou have a broad range of interests and feel motivated by many different challenges.\\nMathematics does not scare you, but gives you pleasure. You like to work precisely, formalize ideas, and produce resilient results.\\nThe ability to understand complex relationships and break them down to the essentials is one of your core competencies, along with an unquenchable thirst for knowledge.\\nYou have a strong interest in understanding how human behavior can be captured and even predicted in mathematical models.\\nYou always wanted to learn programming.\\nYou are interested in how the underlying mathematical and computer science processes work.\\n\\nIf these points fit you, you will definitely make the right choice with the degree program “Data Science”. \\n\\n\\n\\n\\n\\n\\t\\t            Why should I study at FAU?        \\n\\n\\n\\n\\n\\n\\nFAU Erlangen-Nuremberg offers unique conditions for the degree program “Data Science”. Due to the strong content-related networking of the departments of mathematics and computer science and the spatial distance of just two minutes on foot, there is a wide range of informatics and mathematics topics available, taught centrally in the degree program. Due to the great variety of subjects at FAU, you can choose your application subject from many different subject areas. This helps you to find your own individual specialization in your studies, and focus on subjects which you are particularly interested in and enjoy.In addition, the industrial environment of the Nuremberg metropolitan region creates ideal conditions for sustainable and application-oriented studies. And perhaps you will already get to know your future employer during your studies, such as Siemens, Schaeffler or adidas. \\n\\n\\n\\n\\n\\n\\t\\t            Which career prospects are open to me?        \\n\\n\\n\\n\\n\\n\\nWith a Master’s degree as a data scientist, many exciting fields of work open up to you in which you can profitably apply your knowledge. You work directly at the interface between man and machine. Here are some examples of industries with potential employers:\\n\\nTechnology industry (e.g. Google, Facebook, Microsoft, IBM, SAP, Siemens, etc.)\\nConsulting industry (e.g. McKinsey, Ernst & Young, Deloitte, etc.)\\nBiomedical research companies (e.g. AstraZeneca, Roche, Novartis, Bayer, etc.)\\nLogistics industry (Deutsche Post, UPS, DB Mobility Logistics, etc.)\\nEnergy industry (E.ON, RWE, EDF, etc.)\\nFinance and insurance industry (Deutsche Bank, Allianz, Munich Re, etc.)\\n\\nDue to the high demand for graduates in the field of data science – there is an estimated shortage of over 100,000 experts for data science in Germany alone – graduates can expect a relatively high starting salary when starting their career.\\nAlternatively, you can further deepen your understanding of data modeling and analysis by choosing to continue with a doctoral degree and thus even advance the current state of research, which will decisively shape the handling of the resource “data” for the coming decades. \\n\\n\\n\\n\\n\\n\\t\\t            Special features        \\n\\n\\n\\n\\n\\n\\nGerman skills on a B1 level are highly recommended.  \\n\\n\\n\\n\\n\\n\\t\\t            Admission requirements, application, and enrollment        \\n\\n\\n\\n\\n\\n\\n\\n\\n\\n\\n\\n\\nAdmission requirements (first semester)\\n\\nQualification assessment \\n\\n\\n\\n\\n\\n\\n\\nApplication deadline winter semester\\n\\n31.05.\\n\\n\\n\\n\\n\\n\\nApplication deadline summer semester\\n\\n30.11.\\n\\n\\n\\n\\n\\n\\n\\n\\nContent-related admission requirements\\n\\n\\nA completed Bachelor’s degree in Mathematics, Industrial Mathematics, Mathematical Economy, Computer Science, Data Science, or Physics from FAU or another equivalent German or international degree that is not significantly different with regard to the competence profile taught in the respective degree program. Please note that your competence profile cannot be evaluated in advance, but only by the admission committee after completing the application process (described below).\\nA Grade Point Average (GPA) of 2.5 or better with respect to the German grading system. Candidates with an admissible degree (described above) and a GPA between 2.6 and 2.8 are invited for a short online interview in which their knowledge in calculus, linear algebra, algorithms and data structures is evaluated.\\nEnglish proficiency at level B2 CEFR (vantage or upper intermediate) or six years of English classes at a German secondary school (Gymnasium). Applicants who have completed their university entrance qualifications or their first degree in English are not required to provide proof of proficiency in English.\\n\\n\\n\\n\\n\\n\\n\\n\\n\\n\\t\\t                Language skills            \\n\\n\\nGerman language skills for international applicants\\n\\nNo DSH, English (level B2, CEFR) \\n\\n\\nGeneral language skills\\n\\nAs the Master programme is in English we are asking for a certificate of upper intermediate English (level B2) are mandatory. Even if your undergraduate degree was taught in English we recommend to submit a language certificate.\\nFor everyday life and for internships and working student jobs, we recommend solid knowledge (B1) of German, but a certificate is not necessary for the application.\\n\\n\\n\\n\\n\\n\\n\\n\\n\\nDetails and notes\\n\\nApplications have to be submitted via the campus management portal campo.fau.de.\\n\\n\\n\\n \\n\\n\\n\\n\\n\\n\\t\\t        Do you need help or more information?    \\n\\n\\t\\t        Our Student Advice and Career Service (IBZ) is the central point of contact for all questions about studying and starting a degree programme. Our Student Service Centres and subject advisors support you in planning your studies.    \\n\\n\\n\\t\\t    Student Advice Center\\n\\n\\n\\n\\n\\nOrganizational\\n\\n\\n\\n\\t\\t                    Start of the semester                \\n\\n\\n\\n\\t\\t                    Semester dates                \\n\\n\\n\\n\\t\\t                    Semester fees                \\n\\n\\n\\n\\t\\t                    Advice and services                \\n\\n\\n\\n\\t\\t                    Going abroad                \\n\\n\\n\\n\\nDownloads\\n\\n\\n\\n\\t\\t                    Module handbook                \\n\\n\\n\\n\\t\\t                    Degree program and examination regulations                \\n\\n\\n\\n\\nAdditional Information\\n\\n\\n\\n\\t\\t                    Website of the degree program                \\n\\n\\n\\n\\t\\t                    Examination Office - Faculty of Sciences                \\n\\n\\n\\n\\t\\t                    Department/Institute website                \\n\\n\\n\\n\\t\\t                    Faculty of Sciences                \\n\\n\\n\\n\\t\\t                    Student Representatives at FAU                \\n\\n\\n\\n\\n\\n\\n\\n\\n\\n\\n\\n\\n\\n\\n\\n\\n \\n\\n\\n\\n\\n\\n \\n\\n\\n\\n\\n\\nContact\\nPress Office\\nIntranet\\nWhat to do in an emergency\\nReporting errors\\nImprint\\nPrivacy\\nAccessibility\\n \\nInstagramTikTokTwitterMastodonBlueskyYouTubeFacebookXingLinkedInFAU Community \\n\\n\\nUp\\n\\n\\n\\n\\n\\n\\n\\n\\n\\n\\n\\n\\n\\n\\n\\n\\n\\n\\n\\n\\n\\n\\n\\n\\n\\n\\n\\n\\n')]"
      ]
     },
     "execution_count": 5,
     "metadata": {},
     "output_type": "execute_result"
    }
   ],
   "source": [
    "(docs_list)"
   ]
  },
  {
   "cell_type": "code",
   "execution_count": 6,
   "metadata": {},
   "outputs": [],
   "source": [
    "from langchain.prompts import ChatPromptTemplate\n",
    "\n",
    "# Decomposition\n",
    "template = \"\"\"You are a helpful assistant that generates multiple sub-questions related to an input question. \\n\n",
    "The goal is to break down the input into a set of sub-problems / sub-questions that can be answers in isolation. \\n\n",
    "Generate multiple search queries related to: {question} \\n\n",
    "Output (3 queries):\"\"\"\n",
    "prompt_decomposition = ChatPromptTemplate.from_template(template)\n",
    "\n",
    "\n",
    "from langchain_openai import ChatOpenAI\n",
    "from langchain_core.output_parsers import StrOutputParser\n",
    "\n",
    "# LLM\n",
    "llm = ChatOpenAI(temperature=0)\n",
    "\n",
    "# Chain\n",
    "generate_queries_decomposition = ( prompt_decomposition | llm | StrOutputParser() | (lambda x: x.split(\"\\n\")))"
   ]
  },
  {
   "cell_type": "code",
   "execution_count": 7,
   "metadata": {},
   "outputs": [],
   "source": [
    "questions = [\n",
    "    'What are the admission requirements of M.Sc. Data Science at FAU Erlangen?',\n",
    "    'How can I apply for M.Sc. Data Science at FAU Erlangen?',\n",
    "    'Is accommodation available at FAU Erlangen?',\n",
    "    'How can I finance my studies at FAU Erlangen?',\n",
    "    'What are the next steps if I get an admission at FAU Erlangen?',\n",
    "    'What is the duration of M.Sc. Data Science degree program at FAU Erlangen?',\n",
    "    'What is the teaching language of M.Sc. Data Science at FAU Erlangen?',\n",
    "    'What is the structure of M.Sc. Data Science at FAU Erlangen?',\n",
    "    'Is German required for M.Sc. Data Science at FAU Erlangen?',\n",
    "    'What is the duration of B.Sc. Data Science degree program at FAU Erlangen?',\n",
    "    'What is the teaching language of B.Sc. Data Science at FAU Erlangen?',\n",
    "    'What is the structure of B.Sc. Data Science FAU Erlangen?',\n",
    "    'What are the admission requirements of B.Sc. Data Science FAU Erlangen?'\n",
    "]\n"
   ]
  },
  {
   "cell_type": "code",
   "execution_count": 8,
   "metadata": {},
   "outputs": [],
   "source": [
    "### Answer recursively"
   ]
  },
  {
   "cell_type": "code",
   "execution_count": 9,
   "metadata": {},
   "outputs": [],
   "source": [
    "answers = []\n",
    "for question in questions:\n",
    "    questions = generate_queries_decomposition.invoke({\"question\":question})\n",
    "\n",
    "    # Prompt\n",
    "    template = \"\"\"Here is the question you need to answer:\n",
    "\n",
    "    \\n --- \\n {question} \\n --- \\n\n",
    "\n",
    "    Here is any available background question + answer pairs:\n",
    "\n",
    "    \\n --- \\n {q_a_pairs} \\n --- \\n\n",
    "\n",
    "    Here is additional context relevant to the question: \n",
    "\n",
    "    \\n --- \\n {context} \\n --- \\n\n",
    "\n",
    "    Use the above context and any background question + answer pairs to answer the question: \\n {question}\n",
    "    \"\"\"\n",
    "\n",
    "    decomposition_prompt = ChatPromptTemplate.from_template(template)\n",
    "\n",
    "\n",
    "\n",
    "    from operator import itemgetter\n",
    "    from langchain_core.output_parsers import StrOutputParser\n",
    "\n",
    "    def format_qa_pair(question, answer):\n",
    "        \"\"\"Format Q and A pair\"\"\"\n",
    "        \n",
    "        formatted_string = \"\"\n",
    "        formatted_string += f\"Question: {question}\\nAnswer: {answer}\\n\\n\"\n",
    "        return formatted_string.strip()\n",
    "\n",
    "    # llm\n",
    "    llm = ChatOpenAI(model_name=\"gpt-3.5-turbo\", temperature=0)\n",
    "\n",
    "    q_a_pairs = \"\"\n",
    "    for q in questions:\n",
    "        \n",
    "        rag_chain = (\n",
    "        {\"context\": itemgetter(\"question\") | retriever, \n",
    "        \"question\": itemgetter(\"question\"),\n",
    "        \"q_a_pairs\": itemgetter(\"q_a_pairs\")} \n",
    "        | decomposition_prompt\n",
    "        | llm\n",
    "        | StrOutputParser())\n",
    "\n",
    "        answer = rag_chain.invoke({\"question\":q,\"q_a_pairs\":q_a_pairs})\n",
    "        q_a_pair = format_qa_pair(q,answer)\n",
    "        q_a_pairs = q_a_pairs + \"\\n---\\n\"+  q_a_pair\n",
    "\n",
    "    answers.append(answer)"
   ]
  },
  {
   "cell_type": "code",
   "execution_count": 10,
   "metadata": {},
   "outputs": [
    {
     "data": {
      "text/plain": [
       "[\"Yes, international students can apply to the M.Sc. Data Science program at FAU Erlangen. In addition to the general requirements such as having a completed B.Sc. degree in a relevant field and a GPA of 2.5 or better with respect to the German grading system, international students need to fulfill English proficiency at level B2 CEFR or provide proof of six years of English classes at a German secondary school. However, applicants who completed their university entrance qualifications or first degree in English are not required to provide proof of English proficiency. The application process is performed online, and specific registration periods apply for the winter and summer intakes. Further information on the application process can be obtained by contacting the Master's Office at zuv-masterbuero@fau.de.\",\n",
       " 'Based on the provided context and background information, FAU Erlangen-Nürnberg does not have specific funding available to support international students with their living costs for the M.Sc. Data Science program. Therefore, international students are advised to seek scholarships from their home country or use their own funds to finance their studies. Additionally, it is mentioned that international students can check for scholarships at the DAAD website for potential financial aid options.',\n",
       " 'Based on the provided context, there are no specific requirements or deadlines for securing accommodation at FAU Erlangen. The university does not operate any student accommodation or act as an estate agent, but they offer guidance on how students can find accommodation during their studies. Students are advised to seek information on finding accommodation provided by the university.',\n",
       " 'Based on the provided context, FAU Erlangen does not have funding available to support international students with their living costs. Therefore, international students usually receive scholarships from their home country or use their own funds to finance their studies. Additionally, information about scholarships for international students can be found on the DAAD website.',\n",
       " \"The academic advising services available for incoming students at FAU Erlangen include assistance with the application process for the Master's program in Data Science. The advising services can help students understand the registration requirements, such as having a completed B.Sc. degree in specific fields, a GPA of 2.5 or better, English proficiency at level B2 CEFR, and successful completion of the online application process during specified intake periods. Additionally, applicants may be invited for a short online interview to evaluate their knowledge in certain subjects. It is important for incoming students to check the specific requirements for each program and adhere to the application deadlines with the help of academic advising services.\",\n",
       " 'Graduates of the M.Sc. Data Science program at FAU Erlangen typically pursue career paths in various industries such as the technology industry (e.g. Google, Facebook, Microsoft, IBM, SAP, Siemens), consulting industry (e.g. McKinsey, Ernst & Young, Deloitte), biomedical research companies (e.g. AstraZeneca, Roche, Novartis, Bayer), logistics industry (Deutsche Post, UPS, DB Mobility Logistics), energy industry (E.ON, RWE, EDF), and finance and insurance industry (Deutsche Bank, Allianz, Munich Re). Due to the high demand for data science experts in Germany, graduates can expect relatively high starting salaries. Additionally, graduates have the option to further deepen their understanding of data modeling and analysis through a doctoral degree, contributing to the advancement of research in the field of data science.',\n",
       " 'Based on the provided information, the language requirements for the M.Sc. Data Science program at FAU Erlangen include English proficiency at level B2 CEFR or six years of English classes at a German secondary school. Applicants who have completed their university entrance qualifications or their first degree in English are not required to provide proof of proficiency in English. Since the program is mainly taught in English, it is essential for international students to have a good command of the language to successfully participate in the courses. Therefore, international students who are not fluent in English may face challenges in taking the M.Sc. Data Science program at FAU Erlangen.',\n",
       " \"Based on the provided context and background information, it is not explicitly mentioned whether there are specific research opportunities or internships available for M.Sc. Data Science students at FAU Erlangen. However, it is common for universities to offer research opportunities and internships as part of their graduate programs, especially in a field like Data Science. \\n\\nTo get more detailed and up-to-date information on research opportunities and internships available for M.Sc. Data Science students at FAU Erlangen, it is recommended to directly contact the university's department of Data Science or visit their official website for specific information on these opportunities. Additionally, reaching out to faculty members or the student advisory services at FAU Erlangen may also provide insights into any research or internship opportunities available for M.Sc. Data Science students.\",\n",
       " 'Based on the provided information, the language proficiency requirement for the M.Sc. Data Science program at FAU Erlangen is English proficiency at level B2 CEFR or six years of English classes at a German secondary school. There is no specific mention of German language proficiency being required for the program. Therefore, it seems that there are no language proficiency tests accepted in place of German for the M.Sc. Data Science program at FAU Erlangen.',\n",
       " 'Based on the provided context and background information, there is no explicit mention of the possibility for students to pursue a double major or minor alongside the B.Sc. Data Science degree at FAU Erlangen. The focus of the program is on providing a strong foundational and advanced education in mathematics and computer science with a practical application subject. While students may have the opportunity to choose their application subject from various areas, there is no specific mention of double majors or minors within the program. Students interested in pursuing a double major or minor may need to inquire directly with the university or relevant departments for more information on such opportunities.',\n",
       " 'Based on the provided context, the language of instruction for B.Sc. Data Science courses at FAU Erlangen is completely in German. This means that students pursuing the B.Sc. Data Science degree at FAU Erlangen will need to have a good command of the German language to successfully complete their studies.',\n",
       " 'Unfortunately, the provided context and background question + answer pairs do not contain specific information about the faculty members and their expertise in the B.Sc. Data Science program at FAU Erlangen. For detailed information on the faculty members and their expertise in the program, it is recommended to directly contact the university or visit their official website for faculty profiles and research areas related to Data Science.',\n",
       " 'Yes, international students can apply to the B.Sc. Data Science program at FAU Erlangen. In addition to the general admission requirements, international applicants need to have very good German language skills. The application deadline for international applicants for the winter semester is July 15th. Applications must be submitted via the campus management portal campo.fau.de. Furthermore, international students are required to provide proof of English proficiency at level B2 CEFR (vantage or upper intermediate) or have completed six years of English classes at a German secondary school (Gymnasium). Applicants who have completed their university entrance qualifications or their first degree in English are exempt from providing proof of English proficiency.']"
      ]
     },
     "execution_count": 10,
     "metadata": {},
     "output_type": "execute_result"
    }
   ],
   "source": [
    "answers"
   ]
  },
  {
   "cell_type": "code",
   "execution_count": 11,
   "metadata": {},
   "outputs": [
    {
     "data": {
      "text/plain": [
       "13"
      ]
     },
     "execution_count": 11,
     "metadata": {},
     "output_type": "execute_result"
    }
   ],
   "source": [
    "len(answers)"
   ]
  },
  {
   "cell_type": "code",
   "execution_count": 12,
   "metadata": {},
   "outputs": [],
   "source": [
    "### Answer individually"
   ]
  },
  {
   "cell_type": "code",
   "execution_count": 13,
   "metadata": {},
   "outputs": [
    {
     "name": "stderr",
     "output_type": "stream",
     "text": [
      "c:\\Users\\Ekaansh_Khosla\\anaconda3\\Lib\\site-packages\\langchain\\hub.py:120: DeprecationWarning: The `langchainhub sdk` is deprecated.\n",
      "Please use the `langsmith sdk` instead:\n",
      "  pip install langsmith\n",
      "Use the `pull_prompt` method.\n",
      "  res_dict = client.pull_repo(owner_repo_commit)\n"
     ]
    }
   ],
   "source": [
    "# Answer each sub-question individually \n",
    "\n",
    "from langchain import hub\n",
    "from langchain_core.prompts import ChatPromptTemplate\n",
    "from langchain_core.runnables import RunnablePassthrough, RunnableLambda\n",
    "from langchain_core.output_parsers import StrOutputParser\n",
    "from langchain_openai import ChatOpenAI\n",
    "\n",
    "# RAG prompt\n",
    "prompt_rag = hub.pull(\"rlm/rag-prompt\")\n",
    "\n",
    "def retrieve_and_rag(question,prompt_rag,sub_question_generator_chain):\n",
    "    \"\"\"RAG on each sub-question\"\"\"\n",
    "    \n",
    "    # Use our decomposition / \n",
    "    sub_questions = sub_question_generator_chain.invoke({\"question\":question})\n",
    "    \n",
    "    # Initialize a list to hold RAG chain results\n",
    "    rag_results = []\n",
    "    \n",
    "    for sub_question in sub_questions:\n",
    "        \n",
    "        # Retrieve documents for each sub-question\n",
    "        retrieved_docs = retriever.get_relevant_documents(sub_question)\n",
    "        \n",
    "        # Use retrieved documents and sub-question in RAG chain\n",
    "        answer = (prompt_rag | llm | StrOutputParser()).invoke({\"context\": retrieved_docs, \n",
    "                                                                \"question\": sub_question})\n",
    "        rag_results.append(answer)\n",
    "    \n",
    "    return rag_results,sub_questions"
   ]
  },
  {
   "cell_type": "code",
   "execution_count": 14,
   "metadata": {},
   "outputs": [],
   "source": [
    "questions_all = [\n",
    "    'What are the admission requirements of M.Sc. Data Science at FAU Erlangen?',\n",
    "    'How can I apply for M.Sc. Data Science at FAU Erlangen?',\n",
    "    'Is accommodation available at FAU Erlangen?',\n",
    "    'How can I finance my studies at FAU Erlangen?',\n",
    "    'What are the next steps if I get an admission at FAU Erlangen?',\n",
    "    'What is the duration of M.Sc. Data Science degree program at FAU Erlangen?',\n",
    "    'What is the teaching language of M.Sc. Data Science at FAU Erlangen?',\n",
    "    'What is the structure of M.Sc. Data Science at FAU Erlangen?',\n",
    "    'Is German required for M.Sc. Data Science at FAU Erlangen?',\n",
    "    'What is the duration of B.Sc. Data Science degree program at FAU Erlangen?',\n",
    "    'What is the teaching language of B.Sc. Data Science at FAU Erlangen?',\n",
    "    'What is the structure of B.Sc. Data Science FAU Erlangen?',\n",
    "    'What are the admission requirements of B.Sc. Data Science FAU Erlangen?'\n",
    "]\n"
   ]
  },
  {
   "cell_type": "code",
   "execution_count": 15,
   "metadata": {},
   "outputs": [
    {
     "name": "stderr",
     "output_type": "stream",
     "text": [
      "c:\\Users\\Ekaansh_Khosla\\anaconda3\\Lib\\site-packages\\langchain_core\\_api\\deprecation.py:141: LangChainDeprecationWarning: The method `BaseRetriever.get_relevant_documents` was deprecated in langchain-core 0.1.46 and will be removed in 1.0. Use invoke instead.\n",
      "  warn_deprecated(\n"
     ]
    }
   ],
   "source": [
    "answers_all = []\n",
    "for question in questions_all:\n",
    "    # Wrap the retrieval and RAG process in a RunnableLambda for integration into a chain\n",
    "    answers, questions = retrieve_and_rag(question, prompt_rag, generate_queries_decomposition)\n",
    "\n",
    "\n",
    "    def format_qa_pairs(questions, answers):\n",
    "        \"\"\"Format Q and A pairs\"\"\"\n",
    "        \n",
    "        formatted_string = \"\"\n",
    "        for i, (question, answer) in enumerate(zip(questions, answers), start=1):\n",
    "            formatted_string += f\"Question {i}: {question}\\nAnswer {i}: {answer}\\n\\n\"\n",
    "        return formatted_string.strip()\n",
    "\n",
    "    context = format_qa_pairs(questions, answers)\n",
    "\n",
    "    # Prompt\n",
    "    template = \"\"\"Here is a set of Q+A pairs:\n",
    "\n",
    "    {context}\n",
    "\n",
    "    Use these to synthesize an answer to the question: {question}\n",
    "    \"\"\"\n",
    "\n",
    "    prompt = ChatPromptTemplate.from_template(template)\n",
    "\n",
    "    final_rag_chain = (\n",
    "        prompt\n",
    "        | llm\n",
    "        | StrOutputParser()\n",
    "    )\n",
    "\n",
    "    answer = final_rag_chain.invoke({\"context\":context,\"question\":question})\n",
    "    answers_all.append(answer)\n"
   ]
  },
  {
   "cell_type": "code",
   "execution_count": 16,
   "metadata": {},
   "outputs": [
    {
     "data": {
      "text/plain": [
       "['The admission requirements for the M.Sc. Data Science program at FAU Erlangen include a completed B.Sc. degree in Mathematics, Industrial Mathematics, Mathematical Economy, Computer Science, Data Science, or Physics. Applicants must have a Grade Point Average (GPA) of 2.5 or better with respect to the German grading system and English proficiency at level B2 CEFR. International students are welcome to apply, with specific application deadlines for the winter semester. Candidates with a GPA between 2.6 and 2.8 may be invited for a short online interview to assess their knowledge in calculus, linear algebra, algorithms, and data structures.',\n",
       " 'To apply for the M.Sc. Data Science program at FAU Erlangen, you need to meet the admission requirements which include having a completed B.Sc. degree in specific fields, a GPA of 2.5 or better, and English proficiency at level B2 CEFR. The application process is online, with specific registration periods for the winter and summer intakes. International students are also welcome to apply, as long as they meet the same requirements. The application deadline for the program is between 15th February and 31st May for the winter intake and between 15th October and 30th November for the summer intake. More information can be found on the official FAU website.',\n",
       " 'Accommodation is not directly available at FAU Erlangen-Nuremberg, as the university does not operate any student housing. However, students can apply for accommodation through the online portal www.campo.fau.eu. There are specific application deadlines for securing accommodation, with the deadline for international applicants for the winter semester being July 15th. Students are responsible for arranging their own housing, and the university provides information on finding accommodation.',\n",
       " \"To finance your studies at FAU Erlangen, you can explore various options such as applying for scholarships, seeking part-time job opportunities, and applying for student loans or financial aid. While specific information about scholarships available at FAU Erlangen is not provided, students can look for job and internship opportunities through the Stellenwerk homepage or by contacting daniel.tenbrinck@fau.de. Additionally, the university's resources can help students find further job opportunities. To apply for student loans or financial aid, check the official website for application periods and apply online through the campo.fau.eu portal. For any questions about the application process, reach out to the Master's Office at zuv-masterbuero@fau.de. By exploring these options, you can effectively finance your studies at FAU Erlangen.\",\n",
       " 'If you receive admission to FAU Erlangen, the next steps would be to complete the registration requirements for new students, including submitting your B.Sc. degree, GPA, and English proficiency level. Make sure to register online within the specified dates for the winter or summer intake. Once registered, you can explore housing options near the university through external resources or guidance provided by FAU Erlangen. Additionally, take advantage of academic advising services available for incoming students, such as preliminary courses, foundation exams, and orientation week, to help you get started in your studies and receive support and information as needed.',\n",
       " 'The duration of the M.Sc. Data Science degree program at FAU Erlangen is 4 semesters, and it can be started in either the summer or winter semester at the Erlangen campus.',\n",
       " 'The teaching language of the M.Sc. Data Science program at FAU Erlangen is English. Applicants are required to have English proficiency at level B2 CEFR or six years of English classes at a German secondary school in order to be eligible for the program. International students must be fluent in English to participate in the program.',\n",
       " 'The M.Sc. Data Science program at FAU Erlangen includes core courses such as Data-based optimization, Mathematical theory/Fundamentals of data science, Databases and knowledge representation, Machine learning/Artificial intelligence, Simulation and numerics, and Mathematical statistical data analysis. Students also choose a mentor to help design their study plan. The faculty members teaching in the program are not specified. Admission requirements include a completed B.Sc. degree in related fields, a GPA of 2.5 or better, and English proficiency at level B2 CEFR. The application process is online with specific registration periods for winter and summer intakes, and there are no specific admission restrictions for the first semester.',\n",
       " 'Yes, very good German language skills are generally required for enrollment in the M.Sc. Data Science program at FAU Erlangen. Applicants are recommended to have German language skills at a B1 level. English proficiency at level B2 CEFR is also required, but applicants who have completed their university entrance qualifications or first degree in English are exempt from providing proof of English proficiency.',\n",
       " \"The duration of the B.Sc. Data Science degree program at FAU Erlangen is typically six semesters, with the possibility of a semester abroad in the second or third year. During the program, students have opportunities for internships or practical experience to gain hands-on skills in the field. After completing the program, graduates commonly pursue career paths in various industries such as technology, consulting, biomedical research, logistics, energy, and finance. Additionally, graduates have the option to further their studies with a Master's degree or a doctoral degree to advance research in data science.\",\n",
       " 'The teaching language of the B.Sc. Data Science program at FAU Erlangen is German.',\n",
       " 'The B.Sc. Data Science program at FAU Erlangen includes core courses in mathematics and computer science focused on training future Data Scientists. There are no specific prerequisites for admission, and the program does not have admissions restrictions for the first semester. Unfortunately, information on the faculty members and their expertise in the program is not provided.',\n",
       " 'The admission requirements for the B.Sc. Data Science program at FAU Erlangen include a GPA of 2.5 or better with respect to the German grading system. Candidates with a GPA between 2.6 and 2.8 may be invited for a short online interview. Proficiency in English at level B2 CEFR is also required. There are no specific prerequisite courses mentioned, and there are no admissions restrictions for the first semester. International students can apply, but they must have very good German language skills and submit their applications via the campus management portal by July 15th for the winter semester.']"
      ]
     },
     "execution_count": 16,
     "metadata": {},
     "output_type": "execute_result"
    }
   ],
   "source": [
    "answers_all"
   ]
  },
  {
   "cell_type": "code",
   "execution_count": null,
   "metadata": {},
   "outputs": [],
   "source": []
  }
 ],
 "metadata": {
  "kernelspec": {
   "display_name": "base",
   "language": "python",
   "name": "python3"
  },
  "language_info": {
   "codemirror_mode": {
    "name": "ipython",
    "version": 3
   },
   "file_extension": ".py",
   "mimetype": "text/x-python",
   "name": "python",
   "nbconvert_exporter": "python",
   "pygments_lexer": "ipython3",
   "version": "3.11.7"
  }
 },
 "nbformat": 4,
 "nbformat_minor": 2
}
